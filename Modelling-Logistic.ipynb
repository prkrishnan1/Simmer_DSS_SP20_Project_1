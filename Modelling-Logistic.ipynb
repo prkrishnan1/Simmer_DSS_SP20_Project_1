{
 "cells": [
  {
   "cell_type": "markdown",
   "metadata": {},
   "source": [
    "# Modelling – Logistic Regression"
   ]
  },
  {
   "cell_type": "code",
   "execution_count": 95,
   "metadata": {},
   "outputs": [],
   "source": [
    "import numpy as np\n",
    "import pandas as pd\n",
    "import matplotlib.pyplot as plt\n",
    "import seaborn as sns\n",
    "from sklearn.model_selection import train_test_split\n",
    "from sklearn.model_selection import cross_val_score\n",
    "from sklearn.linear_model import LinearRegression\n",
    "from sklearn.linear_model import LogisticRegression, LogisticRegressionCV\n",
    "from sklearn.metrics import accuracy_score"
   ]
  },
  {
   "cell_type": "code",
   "execution_count": 90,
   "metadata": {},
   "outputs": [
    {
     "data": {
      "text/html": [
       "<div>\n",
       "<style scoped>\n",
       "    .dataframe tbody tr th:only-of-type {\n",
       "        vertical-align: middle;\n",
       "    }\n",
       "\n",
       "    .dataframe tbody tr th {\n",
       "        vertical-align: top;\n",
       "    }\n",
       "\n",
       "    .dataframe thead th {\n",
       "        text-align: right;\n",
       "    }\n",
       "</style>\n",
       "<table border=\"1\" class=\"dataframe\">\n",
       "  <thead>\n",
       "    <tr style=\"text-align: right;\">\n",
       "      <th></th>\n",
       "      <th>distinct_id</th>\n",
       "      <th>locationSetting</th>\n",
       "      <th>notificationSettings</th>\n",
       "      <th>active_timespan</th>\n",
       "      <th>US</th>\n",
       "      <th>Facebook</th>\n",
       "      <th>Foodie</th>\n",
       "      <th>Google</th>\n",
       "      <th>Unknown</th>\n",
       "      <th>num_sessions</th>\n",
       "      <th>...</th>\n",
       "      <th>commentAdded</th>\n",
       "      <th>commentLength</th>\n",
       "      <th>churned</th>\n",
       "      <th>number_ratings</th>\n",
       "      <th>SQS</th>\n",
       "      <th>avg_session_duration</th>\n",
       "      <th>time_delta_slope</th>\n",
       "      <th>session_time_slope</th>\n",
       "      <th>time_delta_slope_90</th>\n",
       "      <th>session_time_slope_90</th>\n",
       "    </tr>\n",
       "  </thead>\n",
       "  <tbody>\n",
       "    <tr>\n",
       "      <th>0</th>\n",
       "      <td>00000000-0000-0000-0000-000000000000</td>\n",
       "      <td>1</td>\n",
       "      <td>0</td>\n",
       "      <td>24.202130</td>\n",
       "      <td>0</td>\n",
       "      <td>0</td>\n",
       "      <td>1</td>\n",
       "      <td>0</td>\n",
       "      <td>0</td>\n",
       "      <td>2</td>\n",
       "      <td>...</td>\n",
       "      <td>0</td>\n",
       "      <td>0.000000</td>\n",
       "      <td>1</td>\n",
       "      <td>0.0</td>\n",
       "      <td>-1.000000</td>\n",
       "      <td>-1.000000</td>\n",
       "      <td>0.000000e+00</td>\n",
       "      <td>0.000000</td>\n",
       "      <td>0.000000e+00</td>\n",
       "      <td>0.000000</td>\n",
       "    </tr>\n",
       "    <tr>\n",
       "      <th>1</th>\n",
       "      <td>000BA5B1-DBEF-414E-ACEC-1A2FCC2053DD</td>\n",
       "      <td>1</td>\n",
       "      <td>1</td>\n",
       "      <td>1.130949</td>\n",
       "      <td>1</td>\n",
       "      <td>0</td>\n",
       "      <td>0</td>\n",
       "      <td>1</td>\n",
       "      <td>1</td>\n",
       "      <td>97</td>\n",
       "      <td>...</td>\n",
       "      <td>0</td>\n",
       "      <td>0.000000</td>\n",
       "      <td>0</td>\n",
       "      <td>1.0</td>\n",
       "      <td>40.181818</td>\n",
       "      <td>82.854545</td>\n",
       "      <td>1.113364e+03</td>\n",
       "      <td>6.302727</td>\n",
       "      <td>0.000000e+00</td>\n",
       "      <td>0.000000</td>\n",
       "    </tr>\n",
       "    <tr>\n",
       "      <th>2</th>\n",
       "      <td>001210DC-54C8-43AD-B295-148F47818391</td>\n",
       "      <td>1</td>\n",
       "      <td>0</td>\n",
       "      <td>7.158310</td>\n",
       "      <td>1</td>\n",
       "      <td>0</td>\n",
       "      <td>0</td>\n",
       "      <td>1</td>\n",
       "      <td>1</td>\n",
       "      <td>61</td>\n",
       "      <td>...</td>\n",
       "      <td>0</td>\n",
       "      <td>0.000000</td>\n",
       "      <td>0</td>\n",
       "      <td>0.0</td>\n",
       "      <td>20.000000</td>\n",
       "      <td>47.940000</td>\n",
       "      <td>-1.171600e+04</td>\n",
       "      <td>6.667879</td>\n",
       "      <td>0.000000e+00</td>\n",
       "      <td>0.000000</td>\n",
       "    </tr>\n",
       "    <tr>\n",
       "      <th>3</th>\n",
       "      <td>0019C3B9-FA62-4AB4-A895-1390A1FA818C</td>\n",
       "      <td>1</td>\n",
       "      <td>1</td>\n",
       "      <td>0.000000</td>\n",
       "      <td>1</td>\n",
       "      <td>0</td>\n",
       "      <td>1</td>\n",
       "      <td>0</td>\n",
       "      <td>0</td>\n",
       "      <td>1</td>\n",
       "      <td>...</td>\n",
       "      <td>0</td>\n",
       "      <td>0.000000</td>\n",
       "      <td>0</td>\n",
       "      <td>0.0</td>\n",
       "      <td>-1.000000</td>\n",
       "      <td>-1.000000</td>\n",
       "      <td>0.000000e+00</td>\n",
       "      <td>0.000000</td>\n",
       "      <td>0.000000e+00</td>\n",
       "      <td>0.000000</td>\n",
       "    </tr>\n",
       "    <tr>\n",
       "      <th>4</th>\n",
       "      <td>0025A8A4-2590-4ECA-8CE8-419D710AE46F</td>\n",
       "      <td>1</td>\n",
       "      <td>0</td>\n",
       "      <td>113.687361</td>\n",
       "      <td>1</td>\n",
       "      <td>0</td>\n",
       "      <td>1</td>\n",
       "      <td>0</td>\n",
       "      <td>1</td>\n",
       "      <td>64</td>\n",
       "      <td>...</td>\n",
       "      <td>0</td>\n",
       "      <td>0.000000</td>\n",
       "      <td>0</td>\n",
       "      <td>1.0</td>\n",
       "      <td>27.375000</td>\n",
       "      <td>177.325000</td>\n",
       "      <td>6.155496e+05</td>\n",
       "      <td>-41.476190</td>\n",
       "      <td>-9.127842e+06</td>\n",
       "      <td>6.700000</td>\n",
       "    </tr>\n",
       "    <tr>\n",
       "      <th>...</th>\n",
       "      <td>...</td>\n",
       "      <td>...</td>\n",
       "      <td>...</td>\n",
       "      <td>...</td>\n",
       "      <td>...</td>\n",
       "      <td>...</td>\n",
       "      <td>...</td>\n",
       "      <td>...</td>\n",
       "      <td>...</td>\n",
       "      <td>...</td>\n",
       "      <td>...</td>\n",
       "      <td>...</td>\n",
       "      <td>...</td>\n",
       "      <td>...</td>\n",
       "      <td>...</td>\n",
       "      <td>...</td>\n",
       "      <td>...</td>\n",
       "      <td>...</td>\n",
       "      <td>...</td>\n",
       "      <td>...</td>\n",
       "      <td>...</td>\n",
       "    </tr>\n",
       "    <tr>\n",
       "      <th>7210</th>\n",
       "      <td>wandaandreu@gmail.com_5053</td>\n",
       "      <td>1</td>\n",
       "      <td>0</td>\n",
       "      <td>188.791597</td>\n",
       "      <td>1</td>\n",
       "      <td>0</td>\n",
       "      <td>1</td>\n",
       "      <td>0</td>\n",
       "      <td>1</td>\n",
       "      <td>5</td>\n",
       "      <td>...</td>\n",
       "      <td>0</td>\n",
       "      <td>0.000000</td>\n",
       "      <td>0</td>\n",
       "      <td>0.0</td>\n",
       "      <td>1.666667</td>\n",
       "      <td>54.700000</td>\n",
       "      <td>1.371636e+07</td>\n",
       "      <td>-44.650000</td>\n",
       "      <td>0.000000e+00</td>\n",
       "      <td>0.000000</td>\n",
       "    </tr>\n",
       "    <tr>\n",
       "      <th>7211</th>\n",
       "      <td>willwojt@gmail.com_6868</td>\n",
       "      <td>1</td>\n",
       "      <td>0</td>\n",
       "      <td>37.992164</td>\n",
       "      <td>1</td>\n",
       "      <td>0</td>\n",
       "      <td>1</td>\n",
       "      <td>0</td>\n",
       "      <td>1</td>\n",
       "      <td>178</td>\n",
       "      <td>...</td>\n",
       "      <td>5</td>\n",
       "      <td>2.252809</td>\n",
       "      <td>0</td>\n",
       "      <td>7.0</td>\n",
       "      <td>4.171717</td>\n",
       "      <td>61.190909</td>\n",
       "      <td>-1.221786e+02</td>\n",
       "      <td>0.021697</td>\n",
       "      <td>-1.221786e+02</td>\n",
       "      <td>0.021697</td>\n",
       "    </tr>\n",
       "    <tr>\n",
       "      <th>7212</th>\n",
       "      <td>wolphramite@gmail.com_291</td>\n",
       "      <td>1</td>\n",
       "      <td>0</td>\n",
       "      <td>79.125498</td>\n",
       "      <td>1</td>\n",
       "      <td>0</td>\n",
       "      <td>1</td>\n",
       "      <td>0</td>\n",
       "      <td>1</td>\n",
       "      <td>4</td>\n",
       "      <td>...</td>\n",
       "      <td>0</td>\n",
       "      <td>0.000000</td>\n",
       "      <td>1</td>\n",
       "      <td>0.0</td>\n",
       "      <td>1.000000</td>\n",
       "      <td>17.500000</td>\n",
       "      <td>0.000000e+00</td>\n",
       "      <td>0.000000</td>\n",
       "      <td>0.000000e+00</td>\n",
       "      <td>0.000000</td>\n",
       "    </tr>\n",
       "    <tr>\n",
       "      <th>7213</th>\n",
       "      <td>xbarbarazhong@gmail.com_6704</td>\n",
       "      <td>1</td>\n",
       "      <td>0</td>\n",
       "      <td>0.584016</td>\n",
       "      <td>1</td>\n",
       "      <td>0</td>\n",
       "      <td>1</td>\n",
       "      <td>0</td>\n",
       "      <td>1</td>\n",
       "      <td>21</td>\n",
       "      <td>...</td>\n",
       "      <td>0</td>\n",
       "      <td>0.000000</td>\n",
       "      <td>1</td>\n",
       "      <td>0.0</td>\n",
       "      <td>42.000000</td>\n",
       "      <td>124.150000</td>\n",
       "      <td>0.000000e+00</td>\n",
       "      <td>132.500000</td>\n",
       "      <td>0.000000e+00</td>\n",
       "      <td>0.000000</td>\n",
       "    </tr>\n",
       "    <tr>\n",
       "      <th>7214</th>\n",
       "      <td>yoon.s.jeong@gmail.com_6485</td>\n",
       "      <td>1</td>\n",
       "      <td>1</td>\n",
       "      <td>0.500000</td>\n",
       "      <td>1</td>\n",
       "      <td>0</td>\n",
       "      <td>1</td>\n",
       "      <td>0</td>\n",
       "      <td>1</td>\n",
       "      <td>2</td>\n",
       "      <td>...</td>\n",
       "      <td>0</td>\n",
       "      <td>0.000000</td>\n",
       "      <td>1</td>\n",
       "      <td>0.0</td>\n",
       "      <td>2.000000</td>\n",
       "      <td>41.300000</td>\n",
       "      <td>0.000000e+00</td>\n",
       "      <td>0.000000</td>\n",
       "      <td>0.000000e+00</td>\n",
       "      <td>0.000000</td>\n",
       "    </tr>\n",
       "  </tbody>\n",
       "</table>\n",
       "<p>7215 rows × 27 columns</p>\n",
       "</div>"
      ],
      "text/plain": [
       "                               distinct_id  locationSetting  \\\n",
       "0     00000000-0000-0000-0000-000000000000                1   \n",
       "1     000BA5B1-DBEF-414E-ACEC-1A2FCC2053DD                1   \n",
       "2     001210DC-54C8-43AD-B295-148F47818391                1   \n",
       "3     0019C3B9-FA62-4AB4-A895-1390A1FA818C                1   \n",
       "4     0025A8A4-2590-4ECA-8CE8-419D710AE46F                1   \n",
       "...                                    ...              ...   \n",
       "7210            wandaandreu@gmail.com_5053                1   \n",
       "7211               willwojt@gmail.com_6868                1   \n",
       "7212             wolphramite@gmail.com_291                1   \n",
       "7213          xbarbarazhong@gmail.com_6704                1   \n",
       "7214           yoon.s.jeong@gmail.com_6485                1   \n",
       "\n",
       "      notificationSettings  active_timespan  US  Facebook  Foodie  Google  \\\n",
       "0                        0        24.202130   0         0       1       0   \n",
       "1                        1         1.130949   1         0       0       1   \n",
       "2                        0         7.158310   1         0       0       1   \n",
       "3                        1         0.000000   1         0       1       0   \n",
       "4                        0       113.687361   1         0       1       0   \n",
       "...                    ...              ...  ..       ...     ...     ...   \n",
       "7210                     0       188.791597   1         0       1       0   \n",
       "7211                     0        37.992164   1         0       1       0   \n",
       "7212                     0        79.125498   1         0       1       0   \n",
       "7213                     0         0.584016   1         0       1       0   \n",
       "7214                     1         0.500000   1         0       1       0   \n",
       "\n",
       "      Unknown  num_sessions  ...  commentAdded  commentLength  churned  \\\n",
       "0           0             2  ...             0       0.000000        1   \n",
       "1           1            97  ...             0       0.000000        0   \n",
       "2           1            61  ...             0       0.000000        0   \n",
       "3           0             1  ...             0       0.000000        0   \n",
       "4           1            64  ...             0       0.000000        0   \n",
       "...       ...           ...  ...           ...            ...      ...   \n",
       "7210        1             5  ...             0       0.000000        0   \n",
       "7211        1           178  ...             5       2.252809        0   \n",
       "7212        1             4  ...             0       0.000000        1   \n",
       "7213        1            21  ...             0       0.000000        1   \n",
       "7214        1             2  ...             0       0.000000        1   \n",
       "\n",
       "      number_ratings        SQS  avg_session_duration  time_delta_slope  \\\n",
       "0                0.0  -1.000000             -1.000000      0.000000e+00   \n",
       "1                1.0  40.181818             82.854545      1.113364e+03   \n",
       "2                0.0  20.000000             47.940000     -1.171600e+04   \n",
       "3                0.0  -1.000000             -1.000000      0.000000e+00   \n",
       "4                1.0  27.375000            177.325000      6.155496e+05   \n",
       "...              ...        ...                   ...               ...   \n",
       "7210             0.0   1.666667             54.700000      1.371636e+07   \n",
       "7211             7.0   4.171717             61.190909     -1.221786e+02   \n",
       "7212             0.0   1.000000             17.500000      0.000000e+00   \n",
       "7213             0.0  42.000000            124.150000      0.000000e+00   \n",
       "7214             0.0   2.000000             41.300000      0.000000e+00   \n",
       "\n",
       "      session_time_slope  time_delta_slope_90  session_time_slope_90  \n",
       "0               0.000000         0.000000e+00               0.000000  \n",
       "1               6.302727         0.000000e+00               0.000000  \n",
       "2               6.667879         0.000000e+00               0.000000  \n",
       "3               0.000000         0.000000e+00               0.000000  \n",
       "4             -41.476190        -9.127842e+06               6.700000  \n",
       "...                  ...                  ...                    ...  \n",
       "7210          -44.650000         0.000000e+00               0.000000  \n",
       "7211            0.021697        -1.221786e+02               0.021697  \n",
       "7212            0.000000         0.000000e+00               0.000000  \n",
       "7213          132.500000         0.000000e+00               0.000000  \n",
       "7214            0.000000         0.000000e+00               0.000000  \n",
       "\n",
       "[7215 rows x 27 columns]"
      ]
     },
     "execution_count": 90,
     "metadata": {},
     "output_type": "execute_result"
    }
   ],
   "source": [
    "people = pd.read_csv(\"labeled_data_with_metrics.csv\")\n",
    "people = people.drop(columns= \"Unnamed: 0\", axis=1)\n",
    "people"
   ]
  },
  {
   "cell_type": "code",
   "execution_count": 3,
   "metadata": {},
   "outputs": [
    {
     "data": {
      "text/plain": [
       "Index(['distinct_id', 'locationSetting', 'notificationSettings',\n",
       "       'active_timespan', 'US', 'Facebook', 'Foodie', 'Google', 'Unknown',\n",
       "       'num_sessions', 'sessions_per_day', 'America/New_York',\n",
       "       'America/Los_Angeles', 'America/Chicago', 'Asia/Kolkata',\n",
       "       'America/Denver', 'other_timezone', 'commentAdded', 'commentLength',\n",
       "       'churned', 'number_ratings', 'SQS', 'avg_session_duration',\n",
       "       'time_delta_slope', 'session_time_slope', 'time_delta_slope_90',\n",
       "       'session_time_slope_90'],\n",
       "      dtype='object')"
      ]
     },
     "execution_count": 3,
     "metadata": {},
     "output_type": "execute_result"
    }
   ],
   "source": [
    "people.columns"
   ]
  },
  {
   "cell_type": "code",
   "execution_count": 64,
   "metadata": {},
   "outputs": [],
   "source": [
    "train, test = train_test_split(people.drop(columns=['distinct_id', 'active_timespan', 'sessions_per_day'], axis=1), test_size=0.3, random_state=42)\n"
   ]
  },
  {
   "cell_type": "code",
   "execution_count": 65,
   "metadata": {},
   "outputs": [],
   "source": [
    "Y_test = test['churned'].to_numpy()\n",
    "X_test = test.drop(columns='churned', axis=1).to_numpy()"
   ]
  },
  {
   "cell_type": "code",
   "execution_count": 66,
   "metadata": {},
   "outputs": [],
   "source": [
    "Y_train = train['churned'].to_numpy()\n",
    "X_train = train.drop(columns='churned', axis=1).to_numpy()"
   ]
  },
  {
   "cell_type": "code",
   "execution_count": 67,
   "metadata": {},
   "outputs": [],
   "source": [
    "lr_model = LogisticRegression()"
   ]
  },
  {
   "cell_type": "code",
   "execution_count": 68,
   "metadata": {},
   "outputs": [
    {
     "data": {
      "text/plain": [
       "LogisticRegression(C=1.0, class_weight=None, dual=False, fit_intercept=True,\n",
       "                   intercept_scaling=1, l1_ratio=None, max_iter=100,\n",
       "                   multi_class='auto', n_jobs=None, penalty='l2',\n",
       "                   random_state=None, solver='lbfgs', tol=0.0001, verbose=0,\n",
       "                   warm_start=False)"
      ]
     },
     "execution_count": 68,
     "metadata": {},
     "output_type": "execute_result"
    }
   ],
   "source": [
    "lr_model.fit(X_train, Y_train)"
   ]
  },
  {
   "cell_type": "code",
   "execution_count": 69,
   "metadata": {},
   "outputs": [],
   "source": [
    "predictions = lr_model.predict(X_train)"
   ]
  },
  {
   "cell_type": "code",
   "execution_count": 70,
   "metadata": {},
   "outputs": [
    {
     "data": {
      "text/plain": [
       "0.6196039603960396"
      ]
     },
     "execution_count": 70,
     "metadata": {},
     "output_type": "execute_result"
    }
   ],
   "source": [
    "acc = accuracy_score(Y_train, predictions)\n",
    "acc"
   ]
  },
  {
   "cell_type": "markdown",
   "metadata": {},
   "source": [
    "# Distinguishing features"
   ]
  },
  {
   "cell_type": "code",
   "execution_count": 73,
   "metadata": {},
   "outputs": [],
   "source": [
    "train_qual = train[['locationSetting', 'notificationSettings', 'US', 'Facebook', 'Foodie', 'Google', 'Unknown', \n",
    "                    'America/New_York',\n",
    "       'America/Los_Angeles', 'America/Chicago', 'Asia/Kolkata',\n",
    "       'America/Denver', 'other_timezone',\n",
    "       'churned']]\n",
    "train_quant = train[[\n",
    "       'num_sessions', 'commentAdded', 'commentLength',\n",
    "       'churned', 'number_ratings', 'SQS', 'avg_session_duration',\n",
    "       'time_delta_slope', 'session_time_slope', 'time_delta_slope_90',\n",
    "       'session_time_slope_90']]"
   ]
  },
  {
   "cell_type": "code",
   "execution_count": 74,
   "metadata": {},
   "outputs": [
    {
     "data": {
      "text/html": [
       "<div>\n",
       "<style scoped>\n",
       "    .dataframe tbody tr th:only-of-type {\n",
       "        vertical-align: middle;\n",
       "    }\n",
       "\n",
       "    .dataframe tbody tr th {\n",
       "        vertical-align: top;\n",
       "    }\n",
       "\n",
       "    .dataframe thead th {\n",
       "        text-align: right;\n",
       "    }\n",
       "</style>\n",
       "<table border=\"1\" class=\"dataframe\">\n",
       "  <thead>\n",
       "    <tr style=\"text-align: right;\">\n",
       "      <th></th>\n",
       "      <th>locationSetting</th>\n",
       "      <th>notificationSettings</th>\n",
       "      <th>US</th>\n",
       "      <th>Facebook</th>\n",
       "      <th>Foodie</th>\n",
       "      <th>Google</th>\n",
       "      <th>Unknown</th>\n",
       "      <th>America/New_York</th>\n",
       "      <th>America/Los_Angeles</th>\n",
       "      <th>America/Chicago</th>\n",
       "      <th>Asia/Kolkata</th>\n",
       "      <th>America/Denver</th>\n",
       "      <th>other_timezone</th>\n",
       "    </tr>\n",
       "    <tr>\n",
       "      <th>churned</th>\n",
       "      <th></th>\n",
       "      <th></th>\n",
       "      <th></th>\n",
       "      <th></th>\n",
       "      <th></th>\n",
       "      <th></th>\n",
       "      <th></th>\n",
       "      <th></th>\n",
       "      <th></th>\n",
       "      <th></th>\n",
       "      <th></th>\n",
       "      <th></th>\n",
       "      <th></th>\n",
       "    </tr>\n",
       "  </thead>\n",
       "  <tbody>\n",
       "    <tr>\n",
       "      <th>0</th>\n",
       "      <td>0.953168</td>\n",
       "      <td>0.408107</td>\n",
       "      <td>0.926407</td>\n",
       "      <td>0.071232</td>\n",
       "      <td>0.88351</td>\n",
       "      <td>0.045258</td>\n",
       "      <td>0.519481</td>\n",
       "      <td>0.223534</td>\n",
       "      <td>0.118457</td>\n",
       "      <td>0.110193</td>\n",
       "      <td>0.025187</td>\n",
       "      <td>0.004329</td>\n",
       "      <td>0.518300</td>\n",
       "    </tr>\n",
       "    <tr>\n",
       "      <th>1</th>\n",
       "      <td>0.953368</td>\n",
       "      <td>0.412914</td>\n",
       "      <td>0.719012</td>\n",
       "      <td>0.062575</td>\n",
       "      <td>0.90275</td>\n",
       "      <td>0.034675</td>\n",
       "      <td>0.855719</td>\n",
       "      <td>0.311678</td>\n",
       "      <td>0.143483</td>\n",
       "      <td>0.133918</td>\n",
       "      <td>0.190913</td>\n",
       "      <td>0.007971</td>\n",
       "      <td>0.212037</td>\n",
       "    </tr>\n",
       "  </tbody>\n",
       "</table>\n",
       "</div>"
      ],
      "text/plain": [
       "         locationSetting  notificationSettings        US  Facebook   Foodie  \\\n",
       "churned                                                                       \n",
       "0               0.953168              0.408107  0.926407  0.071232  0.88351   \n",
       "1               0.953368              0.412914  0.719012  0.062575  0.90275   \n",
       "\n",
       "           Google   Unknown  America/New_York  America/Los_Angeles  \\\n",
       "churned                                                              \n",
       "0        0.045258  0.519481          0.223534             0.118457   \n",
       "1        0.034675  0.855719          0.311678             0.143483   \n",
       "\n",
       "         America/Chicago  Asia/Kolkata  America/Denver  other_timezone  \n",
       "churned                                                                 \n",
       "0               0.110193      0.025187        0.004329        0.518300  \n",
       "1               0.133918      0.190913        0.007971        0.212037  "
      ]
     },
     "execution_count": 74,
     "metadata": {},
     "output_type": "execute_result"
    }
   ],
   "source": [
    "train_qual.groupby(\"churned\").mean()"
   ]
  },
  {
   "cell_type": "code",
   "execution_count": 75,
   "metadata": {},
   "outputs": [
    {
     "data": {
      "text/html": [
       "<div>\n",
       "<style scoped>\n",
       "    .dataframe tbody tr th:only-of-type {\n",
       "        vertical-align: middle;\n",
       "    }\n",
       "\n",
       "    .dataframe tbody tr th {\n",
       "        vertical-align: top;\n",
       "    }\n",
       "\n",
       "    .dataframe thead th {\n",
       "        text-align: right;\n",
       "    }\n",
       "</style>\n",
       "<table border=\"1\" class=\"dataframe\">\n",
       "  <thead>\n",
       "    <tr style=\"text-align: right;\">\n",
       "      <th></th>\n",
       "      <th>num_sessions</th>\n",
       "      <th>commentAdded</th>\n",
       "      <th>commentLength</th>\n",
       "      <th>number_ratings</th>\n",
       "      <th>SQS</th>\n",
       "      <th>avg_session_duration</th>\n",
       "      <th>time_delta_slope</th>\n",
       "      <th>session_time_slope</th>\n",
       "      <th>time_delta_slope_90</th>\n",
       "      <th>session_time_slope_90</th>\n",
       "    </tr>\n",
       "    <tr>\n",
       "      <th>churned</th>\n",
       "      <th></th>\n",
       "      <th></th>\n",
       "      <th></th>\n",
       "      <th></th>\n",
       "      <th></th>\n",
       "      <th></th>\n",
       "      <th></th>\n",
       "      <th></th>\n",
       "      <th></th>\n",
       "      <th></th>\n",
       "    </tr>\n",
       "  </thead>\n",
       "  <tbody>\n",
       "    <tr>\n",
       "      <th>0</th>\n",
       "      <td>44.833137</td>\n",
       "      <td>0.434081</td>\n",
       "      <td>0.14766</td>\n",
       "      <td>0.737111</td>\n",
       "      <td>10.925693</td>\n",
       "      <td>38.399466</td>\n",
       "      <td>110576.662448</td>\n",
       "      <td>3.972909</td>\n",
       "      <td>-161322.700427</td>\n",
       "      <td>0.719431</td>\n",
       "    </tr>\n",
       "    <tr>\n",
       "      <th>1</th>\n",
       "      <td>7.630132</td>\n",
       "      <td>0.000797</td>\n",
       "      <td>0.00444</td>\n",
       "      <td>0.002790</td>\n",
       "      <td>6.651161</td>\n",
       "      <td>52.902309</td>\n",
       "      <td>43974.925495</td>\n",
       "      <td>11.031392</td>\n",
       "      <td>-7618.116264</td>\n",
       "      <td>8.544453</td>\n",
       "    </tr>\n",
       "  </tbody>\n",
       "</table>\n",
       "</div>"
      ],
      "text/plain": [
       "         num_sessions  commentAdded  commentLength  number_ratings        SQS  \\\n",
       "churned                                                                         \n",
       "0           44.833137      0.434081        0.14766        0.737111  10.925693   \n",
       "1            7.630132      0.000797        0.00444        0.002790   6.651161   \n",
       "\n",
       "         avg_session_duration  time_delta_slope  session_time_slope  \\\n",
       "churned                                                               \n",
       "0                   38.399466     110576.662448            3.972909   \n",
       "1                   52.902309      43974.925495           11.031392   \n",
       "\n",
       "         time_delta_slope_90  session_time_slope_90  \n",
       "churned                                              \n",
       "0             -161322.700427               0.719431  \n",
       "1               -7618.116264               8.544453  "
      ]
     },
     "execution_count": 75,
     "metadata": {},
     "output_type": "execute_result"
    }
   ],
   "source": [
    "train_quant.groupby(\"churned\").mean()"
   ]
  },
  {
   "cell_type": "code",
   "execution_count": 104,
   "metadata": {},
   "outputs": [],
   "source": [
    "useful = ['churned', 'num_sessions',\n",
    "          'commentAdded', 'commentLength', 'number_ratings', 'time_delta_slope', \n",
    "          'session_time_slope', 'time_delta_slope_90', 'session_time_slope_90',]\n",
    "useful2 = ['churned', 'SQS', 'avg_session_duration', 'Unknown', 'time_delta_slope',\n",
    "       'session_time_slope','US']\n"
   ]
  },
  {
   "cell_type": "markdown",
   "metadata": {},
   "source": [
    "# Retraining Model"
   ]
  },
  {
   "cell_type": "code",
   "execution_count": 105,
   "metadata": {},
   "outputs": [],
   "source": [
    "train2 = train[useful]"
   ]
  },
  {
   "cell_type": "code",
   "execution_count": 106,
   "metadata": {},
   "outputs": [],
   "source": [
    "Y_train2 = train2['churned'].to_numpy()\n",
    "X_train2 = train2.drop(columns='churned', axis=1).to_numpy()\n"
   ]
  },
  {
   "cell_type": "code",
   "execution_count": 107,
   "metadata": {},
   "outputs": [],
   "source": [
    "lr_model2 = LogisticRegression(solver=\"lbfgs\")"
   ]
  },
  {
   "cell_type": "code",
   "execution_count": 108,
   "metadata": {},
   "outputs": [
    {
     "data": {
      "text/plain": [
       "LogisticRegression(C=1.0, class_weight=None, dual=False, fit_intercept=True,\n",
       "                   intercept_scaling=1, l1_ratio=None, max_iter=100,\n",
       "                   multi_class='auto', n_jobs=None, penalty='l2',\n",
       "                   random_state=None, solver='lbfgs', tol=0.0001, verbose=0,\n",
       "                   warm_start=False)"
      ]
     },
     "execution_count": 108,
     "metadata": {},
     "output_type": "execute_result"
    }
   ],
   "source": [
    "lr_model2.fit(X_train2, Y_train2)"
   ]
  },
  {
   "cell_type": "code",
   "execution_count": 109,
   "metadata": {},
   "outputs": [],
   "source": [
    "predictions2 = lr_model2.predict(X_train2)"
   ]
  },
  {
   "cell_type": "code",
   "execution_count": 110,
   "metadata": {},
   "outputs": [
    {
     "data": {
      "text/plain": [
       "0.5089108910891089"
      ]
     },
     "execution_count": 110,
     "metadata": {},
     "output_type": "execute_result"
    }
   ],
   "source": [
    "acc = accuracy_score(Y_train2, predictions2)\n",
    "acc"
   ]
  },
  {
   "cell_type": "code",
   "execution_count": 96,
   "metadata": {},
   "outputs": [
    {
     "data": {
      "text/plain": [
       "(0.0, 1.0)"
      ]
     },
     "execution_count": 96,
     "metadata": {},
     "output_type": "execute_result"
    },
    {
     "data": {
      "image/png": "[encoded data removed]",
      "text/plain": [
       "<Figure size 432x288 with 1 Axes>"
      ]
     },
     "metadata": {
      "needs_background": "light"
     },
     "output_type": "display_data"
    }
   ],
   "source": [
    "pred_y=lr_model2.predict(X_train2) \n",
    "\n",
    "probs_y=lr_model2.predict_proba(X_train2) \n",
    "\n",
    "from sklearn.metrics import precision_recall_curve\n",
    "\n",
    "precision, recall, thresholds = precision_recall_curve(Y_train, probs_y[:, \n",
    "1]) \n",
    "\n",
    "plt.title(\"Precision-Recall vs Threshold Chart\")\n",
    "plt.plot(thresholds, precision[: -1], \"b--\", label=\"Precision\")\n",
    "plt.plot(thresholds, recall[: -1], \"r--\", label=\"Recall\")\n",
    "plt.ylabel(\"Precision, Recall\")\n",
    "plt.xlabel(\"Threshold\")\n",
    "plt.legend(loc=\"lower left\")\n",
    "plt.ylim([0,1])"
   ]
  },
  {
   "cell_type": "code",
   "execution_count": null,
   "metadata": {},
   "outputs": [],
   "source": []
  }
 ],
 "metadata": {
  "kernelspec": {
   "display_name": "Python 3",
   "language": "python",
   "name": "python3"
  },
  "language_info": {
   "codemirror_mode": {
    "name": "ipython",
    "version": 3
   },
   "file_extension": ".py",
   "mimetype": "text/x-python",
   "name": "python",
   "nbconvert_exporter": "python",
   "pygments_lexer": "ipython3",
   "version": "3.6.2"
  }
 },
 "nbformat": 4,
 "nbformat_minor": 4
}
