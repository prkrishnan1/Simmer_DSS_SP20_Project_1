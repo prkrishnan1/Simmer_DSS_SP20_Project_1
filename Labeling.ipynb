{
 "cells": [
  {
   "cell_type": "code",
   "execution_count": 1,
   "metadata": {},
   "outputs": [],
   "source": [
    "import pandas as pd\n",
    "import numpy as np\n",
    "import matplotlib.pyplot as plt\n",
    "from datetime import datetime, timedelta"
   ]
  },
  {
   "cell_type": "code",
   "execution_count": 2,
   "metadata": {},
   "outputs": [
    {
     "name": "stderr",
     "output_type": "stream",
     "text": [
      "/Users/pranavkrishnan/anaconda3/lib/python3.6/site-packages/IPython/core/interactiveshell.py:2785: DtypeWarning: Columns (4) have mixed types. Specify dtype option on import or set low_memory=False.\n",
      "  interactivity=interactivity, compiler=compiler, result=result)\n"
     ]
    }
   ],
   "source": [
    "dataset = pd.read_csv(\"cleaned_AllPeople.csv\")"
   ]
  },
  {
   "cell_type": "code",
   "execution_count": 3,
   "metadata": {},
   "outputs": [
    {
     "data": {
      "text/plain": [
       "Index(['Unnamed: 0', 'name_x', 'distinct_id', 'time', 'ae_session_length',\n",
       "       'city', 'region', 'mp_country_code', 'locationSetting',\n",
       "       'notificationSettings', 'FirstTimeUploaded', 'Signup With',\n",
       "       'imageAdded', 'commentAdded', 'commentLength', 'ImageUploaded',\n",
       "       'ae_total_app_session_length', 'name_y', 'ae_total_app_sessions',\n",
       "       'timezone', 'last_seen', 'ios_app_version', 'ios_version',\n",
       "       'ios_device_model', 'ios_lib_version', 'ae_first_app_open_date',\n",
       "       'active_timespan', 'average_session_time', 'country', 'US', 'Facebook',\n",
       "       'Foodie', 'Google', 'Unknown'],\n",
       "      dtype='object')"
      ]
     },
     "execution_count": 3,
     "metadata": {},
     "output_type": "execute_result"
    }
   ],
   "source": [
    "dataset.columns"
   ]
  },
  {
   "cell_type": "code",
   "execution_count": 4,
   "metadata": {},
   "outputs": [
    {
     "data": {
      "text/plain": [
       "9.0    67\n",
       "Name: ae_total_app_sessions, dtype: int64"
      ]
     },
     "execution_count": 4,
     "metadata": {},
     "output_type": "execute_result"
    }
   ],
   "source": [
    "dataset[['distinct_id','ae_total_app_sessions']][dataset['distinct_id'] == 'DB387857-02A8-4BBF-B299-450EDB8C9560']['ae_total_app_sessions'].value_counts()"
   ]
  },
  {
   "cell_type": "code",
   "execution_count": 5,
   "metadata": {},
   "outputs": [],
   "source": [
    "id_to_app_open = {}\n",
    "\n",
    "null_app_open_dates = dataset[dataset['ae_first_app_open_date'].isnull()]['distinct_id'].value_counts()\n",
    "\n",
    "\n",
    "for _id in null_app_open_dates.index:\n",
    "    event_order = dataset[dataset['distinct_id'] == _id].sort_values('time', ascending=True)\n",
    "    try:\n",
    "        first_app_open = event_order['name_x'].tolist().index('$ae_first_open')\n",
    "        event_time = event_order['time'].tolist()[first_app_open]\n",
    "        id_to_app_open[_id] = event_time\n",
    "    except:\n",
    "        try:\n",
    "            first_app_open = event_order['name_x'].tolist().index('AppOpen')\n",
    "            event_time = event_order['time'].tolist()[first_app_open]\n",
    "            id_to_app_open[_id] = event_time\n",
    "        except:\n",
    "            id_to_app_open[_id] = event_order['time'].tolist()[0]\n",
    "\n",
    "filled_in = []\n",
    "for index in dataset.index:\n",
    "    row = dataset.loc[index]\n",
    "    try:\n",
    "        isnan = np.isnan(row['ae_first_app_open_date'])\n",
    "    except:\n",
    "        isnan = False\n",
    "    \n",
    "    if isnan:\n",
    "        filled_in += [id_to_app_open[row['distinct_id']]]\n",
    "    else:\n",
    "        filled_in += [row['ae_first_app_open_date']]\n",
    "\n",
    "dataset['ae_first_app_open_date'] = filled_in\n",
    "dataset['ae_first_app_open_date'] = pd.to_datetime(dataset['ae_first_app_open_date'], utc=True)\n",
    "dataset['time'] = pd.to_datetime(dataset['ae_first_app_open_date'], utc=True)\n",
    "dataset['last_seen'] = pd.to_datetime(dataset['last_seen'])\n",
    "dataset['active_timespan'] = dataset['last_seen'] - dataset['ae_first_app_open_date']"
   ]
  },
  {
   "cell_type": "code",
   "execution_count": 6,
   "metadata": {},
   "outputs": [],
   "source": [
    "average_total_app_sessions = np.mean(dataset.groupby('distinct_id').agg(np.mean)['ae_total_app_sessions'])"
   ]
  },
  {
   "cell_type": "code",
   "execution_count": 7,
   "metadata": {},
   "outputs": [],
   "source": [
    "dataset['ae_total_app_sessions'] = dataset['ae_total_app_sessions'].fillna(average_total_app_sessions)"
   ]
  },
  {
   "cell_type": "code",
   "execution_count": 8,
   "metadata": {},
   "outputs": [
    {
     "data": {
      "text/html": [
       "<div>\n",
       "<style scoped>\n",
       "    .dataframe tbody tr th:only-of-type {\n",
       "        vertical-align: middle;\n",
       "    }\n",
       "\n",
       "    .dataframe tbody tr th {\n",
       "        vertical-align: top;\n",
       "    }\n",
       "\n",
       "    .dataframe thead th {\n",
       "        text-align: right;\n",
       "    }\n",
       "</style>\n",
       "<table border=\"1\" class=\"dataframe\">\n",
       "  <thead>\n",
       "    <tr style=\"text-align: right;\">\n",
       "      <th></th>\n",
       "      <th>distinct_id</th>\n",
       "      <th>ae_total_app_sessions</th>\n",
       "      <th>ae_first_app_open_date</th>\n",
       "    </tr>\n",
       "  </thead>\n",
       "  <tbody>\n",
       "    <tr>\n",
       "      <th>0</th>\n",
       "      <td>Gh@g.com_5858</td>\n",
       "      <td>14.310123</td>\n",
       "      <td>2019-08-19 21:43:18+00:00</td>\n",
       "    </tr>\n",
       "    <tr>\n",
       "      <th>1</th>\n",
       "      <td>A5C759A6-9FE5-4071-9D0A-4B91C61F63BD</td>\n",
       "      <td>3.000000</td>\n",
       "      <td>2019-06-12 17:44:46+00:00</td>\n",
       "    </tr>\n",
       "    <tr>\n",
       "      <th>2</th>\n",
       "      <td>4E1A70A0-C2DB-46EB-A9C8-B4F0B0815771</td>\n",
       "      <td>3012.000000</td>\n",
       "      <td>2019-11-21 11:58:17+00:00</td>\n",
       "    </tr>\n",
       "    <tr>\n",
       "      <th>3</th>\n",
       "      <td>C9434897-9F99-4D5F-B9D3-A3E8DAFC0B74</td>\n",
       "      <td>8.000000</td>\n",
       "      <td>2019-06-15 01:07:41+00:00</td>\n",
       "    </tr>\n",
       "    <tr>\n",
       "      <th>4</th>\n",
       "      <td>4E1A70A0-C2DB-46EB-A9C8-B4F0B0815771</td>\n",
       "      <td>3012.000000</td>\n",
       "      <td>2019-11-21 11:58:17+00:00</td>\n",
       "    </tr>\n",
       "    <tr>\n",
       "      <th>...</th>\n",
       "      <td>...</td>\n",
       "      <td>...</td>\n",
       "      <td>...</td>\n",
       "    </tr>\n",
       "    <tr>\n",
       "      <th>190366</th>\n",
       "      <td>DB387857-02A8-4BBF-B299-450EDB8C9560</td>\n",
       "      <td>9.000000</td>\n",
       "      <td>2019-08-19 17:01:09+00:00</td>\n",
       "    </tr>\n",
       "    <tr>\n",
       "      <th>190367</th>\n",
       "      <td>DB387857-02A8-4BBF-B299-450EDB8C9560</td>\n",
       "      <td>9.000000</td>\n",
       "      <td>2019-08-19 17:01:09+00:00</td>\n",
       "    </tr>\n",
       "    <tr>\n",
       "      <th>190368</th>\n",
       "      <td>DB387857-02A8-4BBF-B299-450EDB8C9560</td>\n",
       "      <td>9.000000</td>\n",
       "      <td>2019-08-19 17:01:09+00:00</td>\n",
       "    </tr>\n",
       "    <tr>\n",
       "      <th>190369</th>\n",
       "      <td>DB387857-02A8-4BBF-B299-450EDB8C9560</td>\n",
       "      <td>9.000000</td>\n",
       "      <td>2019-08-19 17:01:09+00:00</td>\n",
       "    </tr>\n",
       "    <tr>\n",
       "      <th>190370</th>\n",
       "      <td>5A25D893-F12F-4DB8-BFE6-99BAD3451788</td>\n",
       "      <td>39.000000</td>\n",
       "      <td>2020-01-10 05:36:55+00:00</td>\n",
       "    </tr>\n",
       "  </tbody>\n",
       "</table>\n",
       "<p>190371 rows × 3 columns</p>\n",
       "</div>"
      ],
      "text/plain": [
       "                                 distinct_id  ae_total_app_sessions  \\\n",
       "0                              Gh@g.com_5858              14.310123   \n",
       "1       A5C759A6-9FE5-4071-9D0A-4B91C61F63BD               3.000000   \n",
       "2       4E1A70A0-C2DB-46EB-A9C8-B4F0B0815771            3012.000000   \n",
       "3       C9434897-9F99-4D5F-B9D3-A3E8DAFC0B74               8.000000   \n",
       "4       4E1A70A0-C2DB-46EB-A9C8-B4F0B0815771            3012.000000   \n",
       "...                                      ...                    ...   \n",
       "190366  DB387857-02A8-4BBF-B299-450EDB8C9560               9.000000   \n",
       "190367  DB387857-02A8-4BBF-B299-450EDB8C9560               9.000000   \n",
       "190368  DB387857-02A8-4BBF-B299-450EDB8C9560               9.000000   \n",
       "190369  DB387857-02A8-4BBF-B299-450EDB8C9560               9.000000   \n",
       "190370  5A25D893-F12F-4DB8-BFE6-99BAD3451788              39.000000   \n",
       "\n",
       "          ae_first_app_open_date  \n",
       "0      2019-08-19 21:43:18+00:00  \n",
       "1      2019-06-12 17:44:46+00:00  \n",
       "2      2019-11-21 11:58:17+00:00  \n",
       "3      2019-06-15 01:07:41+00:00  \n",
       "4      2019-11-21 11:58:17+00:00  \n",
       "...                          ...  \n",
       "190366 2019-08-19 17:01:09+00:00  \n",
       "190367 2019-08-19 17:01:09+00:00  \n",
       "190368 2019-08-19 17:01:09+00:00  \n",
       "190369 2019-08-19 17:01:09+00:00  \n",
       "190370 2020-01-10 05:36:55+00:00  \n",
       "\n",
       "[190371 rows x 3 columns]"
      ]
     },
     "execution_count": 8,
     "metadata": {},
     "output_type": "execute_result"
    }
   ],
   "source": [
    "app_sessions_timespan = dataset[['distinct_id','ae_total_app_sessions', 'ae_first_app_open_date']]\n",
    "app_sessions_timespan"
   ]
  },
  {
   "cell_type": "code",
   "execution_count": 9,
   "metadata": {},
   "outputs": [
    {
     "data": {
      "text/plain": [
       "Series([], Name: distinct_id, dtype: int64)"
      ]
     },
     "execution_count": 9,
     "metadata": {},
     "output_type": "execute_result"
    }
   ],
   "source": [
    "app_sessions_timespan[app_sessions_timespan['ae_first_app_open_date'].isnull()]['distinct_id'].value_counts()"
   ]
  },
  {
   "cell_type": "code",
   "execution_count": 10,
   "metadata": {},
   "outputs": [
    {
     "data": {
      "text/html": [
       "<div>\n",
       "<style scoped>\n",
       "    .dataframe tbody tr th:only-of-type {\n",
       "        vertical-align: middle;\n",
       "    }\n",
       "\n",
       "    .dataframe tbody tr th {\n",
       "        vertical-align: top;\n",
       "    }\n",
       "\n",
       "    .dataframe thead th {\n",
       "        text-align: right;\n",
       "    }\n",
       "</style>\n",
       "<table border=\"1\" class=\"dataframe\">\n",
       "  <thead>\n",
       "    <tr style=\"text-align: right;\">\n",
       "      <th></th>\n",
       "      <th>ae_total_app_sessions</th>\n",
       "    </tr>\n",
       "    <tr>\n",
       "      <th>distinct_id</th>\n",
       "      <th></th>\n",
       "    </tr>\n",
       "  </thead>\n",
       "  <tbody>\n",
       "    <tr>\n",
       "      <th>00000000-0000-0000-0000-000000000000</th>\n",
       "      <td>14.310123</td>\n",
       "    </tr>\n",
       "    <tr>\n",
       "      <th>000BA5B1-DBEF-414E-ACEC-1A2FCC2053DD</th>\n",
       "      <td>11.000000</td>\n",
       "    </tr>\n",
       "    <tr>\n",
       "      <th>001210DC-54C8-43AD-B295-148F47818391</th>\n",
       "      <td>10.000000</td>\n",
       "    </tr>\n",
       "    <tr>\n",
       "      <th>0019C3B9-FA62-4AB4-A895-1390A1FA818C</th>\n",
       "      <td>14.310123</td>\n",
       "    </tr>\n",
       "    <tr>\n",
       "      <th>0025A8A4-2590-4ECA-8CE8-419D710AE46F</th>\n",
       "      <td>8.000000</td>\n",
       "    </tr>\n",
       "    <tr>\n",
       "      <th>...</th>\n",
       "      <td>...</td>\n",
       "    </tr>\n",
       "    <tr>\n",
       "      <th>wandaandreu@gmail.com_5053</th>\n",
       "      <td>14.310123</td>\n",
       "    </tr>\n",
       "    <tr>\n",
       "      <th>willwojt@gmail.com_6868</th>\n",
       "      <td>14.310123</td>\n",
       "    </tr>\n",
       "    <tr>\n",
       "      <th>wolphramite@gmail.com_291</th>\n",
       "      <td>14.310123</td>\n",
       "    </tr>\n",
       "    <tr>\n",
       "      <th>xbarbarazhong@gmail.com_6704</th>\n",
       "      <td>14.310123</td>\n",
       "    </tr>\n",
       "    <tr>\n",
       "      <th>yoon.s.jeong@gmail.com_6485</th>\n",
       "      <td>14.310123</td>\n",
       "    </tr>\n",
       "  </tbody>\n",
       "</table>\n",
       "<p>7215 rows × 1 columns</p>\n",
       "</div>"
      ],
      "text/plain": [
       "                                      ae_total_app_sessions\n",
       "distinct_id                                                \n",
       "00000000-0000-0000-0000-000000000000              14.310123\n",
       "000BA5B1-DBEF-414E-ACEC-1A2FCC2053DD              11.000000\n",
       "001210DC-54C8-43AD-B295-148F47818391              10.000000\n",
       "0019C3B9-FA62-4AB4-A895-1390A1FA818C              14.310123\n",
       "0025A8A4-2590-4ECA-8CE8-419D710AE46F               8.000000\n",
       "...                                                     ...\n",
       "wandaandreu@gmail.com_5053                        14.310123\n",
       "willwojt@gmail.com_6868                           14.310123\n",
       "wolphramite@gmail.com_291                         14.310123\n",
       "xbarbarazhong@gmail.com_6704                      14.310123\n",
       "yoon.s.jeong@gmail.com_6485                       14.310123\n",
       "\n",
       "[7215 rows x 1 columns]"
      ]
     },
     "execution_count": 10,
     "metadata": {},
     "output_type": "execute_result"
    }
   ],
   "source": [
    "id_sessions = app_sessions_timespan.groupby('distinct_id').agg(np.mean)\n",
    "id_sessions"
   ]
  },
  {
   "cell_type": "code",
   "execution_count": 11,
   "metadata": {},
   "outputs": [
    {
     "data": {
      "text/plain": [
       "(array([7.199e+03, 4.000e+00, 1.000e+00, 3.000e+00, 1.000e+00, 0.000e+00,\n",
       "        2.000e+00, 2.000e+00, 1.000e+00, 2.000e+00]),\n",
       " array([1.0000e+00, 3.6120e+02, 7.2140e+02, 1.0816e+03, 1.4418e+03,\n",
       "        1.8020e+03, 2.1622e+03, 2.5224e+03, 2.8826e+03, 3.2428e+03,\n",
       "        3.6030e+03]),\n",
       " <a list of 10 Patch objects>)"
      ]
     },
     "execution_count": 11,
     "metadata": {},
     "output_type": "execute_result"
    },
    {
     "data": {
      "image/png": "[encoded data removed]",
      "text/plain": [
       "<Figure size 432x288 with 1 Axes>"
      ]
     },
     "metadata": {},
     "output_type": "display_data"
    }
   ],
   "source": [
    "plt.title('Histogram of Total App Sessions')\n",
    "plt.hist(id_sessions['ae_total_app_sessions'])"
   ]
  },
  {
   "cell_type": "code",
   "execution_count": 12,
   "metadata": {},
   "outputs": [
    {
     "data": {
      "text/plain": [
       "(array([33., 20., 22., 12.,  4.,  4.,  3.,  1.,  3.,  5.,  3.,  4.,  0.,\n",
       "         1.,  3.,  0.,  2.,  0.,  0.,  0.,  0.,  0.,  2.,  0.,  1.,  0.,\n",
       "         0.,  0.,  0.,  0.,  0.,  0.,  0.,  0.,  1.,  0.,  1.,  0.,  0.,\n",
       "         0.,  0.,  1.,  0.,  0.,  0.,  0.,  0.]),\n",
       " array([ 30.,  40.,  50.,  60.,  70.,  80.,  90., 100., 110., 120., 130.,\n",
       "        140., 150., 160., 170., 180., 190., 200., 210., 220., 230., 240.,\n",
       "        250., 260., 270., 280., 290., 300., 310., 320., 330., 340., 350.,\n",
       "        360., 370., 380., 390., 400., 410., 420., 430., 440., 450., 460.,\n",
       "        470., 480., 490., 500.]),\n",
       " <a list of 47 Patch objects>)"
      ]
     },
     "execution_count": 12,
     "metadata": {},
     "output_type": "execute_result"
    },
    {
     "data": {
      "image/png": "[encoded data removed]",
      "text/plain": [
       "<Figure size 432x288 with 1 Axes>"
      ]
     },
     "metadata": {},
     "output_type": "display_data"
    }
   ],
   "source": [
    "plt.title('Histogram with Bins 30-500 Size 10')\n",
    "plt.hist(id_sessions['ae_total_app_sessions'], bins=np.linspace(30, 500, 48))"
   ]
  },
  {
   "cell_type": "code",
   "execution_count": 13,
   "metadata": {},
   "outputs": [],
   "source": [
    "timespan = dataset[['distinct_id', 'active_timespan', 'ae_first_app_open_date']]"
   ]
  },
  {
   "cell_type": "code",
   "execution_count": 14,
   "metadata": {},
   "outputs": [
    {
     "name": "stderr",
     "output_type": "stream",
     "text": [
      "/Users/pranavkrishnan/anaconda3/lib/python3.6/site-packages/ipykernel_launcher.py:1: SettingWithCopyWarning: \n",
      "A value is trying to be set on a copy of a slice from a DataFrame.\n",
      "Try using .loc[row_indexer,col_indexer] = value instead\n",
      "\n",
      "See the caveats in the documentation: http://pandas.pydata.org/pandas-docs/stable/user_guide/indexing.html#returning-a-view-versus-a-copy\n",
      "  \"\"\"Entry point for launching an IPython kernel.\n"
     ]
    }
   ],
   "source": [
    "timespan['active_timespan'] = [elem.total_seconds() for elem in timespan['active_timespan']]\n",
    "# id_timespan = timespan.groupby('active_timespan').agg(np.mean)\n"
   ]
  },
  {
   "cell_type": "code",
   "execution_count": 15,
   "metadata": {},
   "outputs": [],
   "source": [
    "id_timespan = timespan.groupby('distinct_id').agg(np.mean)"
   ]
  },
  {
   "cell_type": "code",
   "execution_count": 16,
   "metadata": {},
   "outputs": [],
   "source": [
    "id_timespan_sessions = id_timespan.merge(id_sessions, how='inner', left_index=True, right_index=True)\n",
    "id_timespan_sessions['active_timespan'] = id_timespan_sessions['active_timespan'] / (60 * 60 * 24)"
   ]
  },
  {
   "cell_type": "code",
   "execution_count": 17,
   "metadata": {},
   "outputs": [
    {
     "data": {
      "text/plain": [
       "<matplotlib.collections.PathCollection at 0x1221c9f60>"
      ]
     },
     "execution_count": 17,
     "metadata": {},
     "output_type": "execute_result"
    },
    {
     "data": {
      "image/png": "[encoded data removed]",
      "text/plain": [
       "<Figure size 432x288 with 1 Axes>"
      ]
     },
     "metadata": {},
     "output_type": "display_data"
    }
   ],
   "source": [
    "plt.xlabel('Active Timespan (Days)')\n",
    "plt.ylabel('Number of sessions')\n",
    "plt.title('Timespan vs. Num sessions')\n",
    "plt.scatter(id_timespan_sessions['active_timespan'], id_timespan_sessions['ae_total_app_sessions'])"
   ]
  },
  {
   "cell_type": "code",
   "execution_count": 18,
   "metadata": {},
   "outputs": [
    {
     "data": {
      "text/html": [
       "<div>\n",
       "<style scoped>\n",
       "    .dataframe tbody tr th:only-of-type {\n",
       "        vertical-align: middle;\n",
       "    }\n",
       "\n",
       "    .dataframe tbody tr th {\n",
       "        vertical-align: top;\n",
       "    }\n",
       "\n",
       "    .dataframe thead th {\n",
       "        text-align: right;\n",
       "    }\n",
       "</style>\n",
       "<table border=\"1\" class=\"dataframe\">\n",
       "  <thead>\n",
       "    <tr style=\"text-align: right;\">\n",
       "      <th></th>\n",
       "      <th>active_timespan</th>\n",
       "      <th>ae_total_app_sessions</th>\n",
       "      <th>sessions_per_day</th>\n",
       "    </tr>\n",
       "    <tr>\n",
       "      <th>distinct_id</th>\n",
       "      <th></th>\n",
       "      <th></th>\n",
       "      <th></th>\n",
       "    </tr>\n",
       "  </thead>\n",
       "  <tbody>\n",
       "    <tr>\n",
       "      <th>00000000-0000-0000-0000-000000000000</th>\n",
       "      <td>NaN</td>\n",
       "      <td>14.310123</td>\n",
       "      <td>NaN</td>\n",
       "    </tr>\n",
       "    <tr>\n",
       "      <th>000BA5B1-DBEF-414E-ACEC-1A2FCC2053DD</th>\n",
       "      <td>1.130949</td>\n",
       "      <td>11.000000</td>\n",
       "      <td>9.726344</td>\n",
       "    </tr>\n",
       "    <tr>\n",
       "      <th>001210DC-54C8-43AD-B295-148F47818391</th>\n",
       "      <td>7.158310</td>\n",
       "      <td>10.000000</td>\n",
       "      <td>1.396978</td>\n",
       "    </tr>\n",
       "    <tr>\n",
       "      <th>0019C3B9-FA62-4AB4-A895-1390A1FA818C</th>\n",
       "      <td>NaN</td>\n",
       "      <td>14.310123</td>\n",
       "      <td>NaN</td>\n",
       "    </tr>\n",
       "    <tr>\n",
       "      <th>0025A8A4-2590-4ECA-8CE8-419D710AE46F</th>\n",
       "      <td>113.687361</td>\n",
       "      <td>8.000000</td>\n",
       "      <td>0.070368</td>\n",
       "    </tr>\n",
       "    <tr>\n",
       "      <th>...</th>\n",
       "      <td>...</td>\n",
       "      <td>...</td>\n",
       "      <td>...</td>\n",
       "    </tr>\n",
       "    <tr>\n",
       "      <th>wandaandreu@gmail.com_5053</th>\n",
       "      <td>-19.645486</td>\n",
       "      <td>14.310123</td>\n",
       "      <td>-0.728418</td>\n",
       "    </tr>\n",
       "    <tr>\n",
       "      <th>willwojt@gmail.com_6868</th>\n",
       "      <td>36.216782</td>\n",
       "      <td>14.310123</td>\n",
       "      <td>0.395124</td>\n",
       "    </tr>\n",
       "    <tr>\n",
       "      <th>wolphramite@gmail.com_291</th>\n",
       "      <td>-245.893843</td>\n",
       "      <td>14.310123</td>\n",
       "      <td>-0.058196</td>\n",
       "    </tr>\n",
       "    <tr>\n",
       "      <th>xbarbarazhong@gmail.com_6704</th>\n",
       "      <td>0.584016</td>\n",
       "      <td>14.310123</td>\n",
       "      <td>24.502956</td>\n",
       "    </tr>\n",
       "    <tr>\n",
       "      <th>yoon.s.jeong@gmail.com_6485</th>\n",
       "      <td>0.500000</td>\n",
       "      <td>14.310123</td>\n",
       "      <td>28.620246</td>\n",
       "    </tr>\n",
       "  </tbody>\n",
       "</table>\n",
       "<p>7215 rows × 3 columns</p>\n",
       "</div>"
      ],
      "text/plain": [
       "                                      active_timespan  ae_total_app_sessions  \\\n",
       "distinct_id                                                                    \n",
       "00000000-0000-0000-0000-000000000000              NaN              14.310123   \n",
       "000BA5B1-DBEF-414E-ACEC-1A2FCC2053DD         1.130949              11.000000   \n",
       "001210DC-54C8-43AD-B295-148F47818391         7.158310              10.000000   \n",
       "0019C3B9-FA62-4AB4-A895-1390A1FA818C              NaN              14.310123   \n",
       "0025A8A4-2590-4ECA-8CE8-419D710AE46F       113.687361               8.000000   \n",
       "...                                               ...                    ...   \n",
       "wandaandreu@gmail.com_5053                 -19.645486              14.310123   \n",
       "willwojt@gmail.com_6868                     36.216782              14.310123   \n",
       "wolphramite@gmail.com_291                 -245.893843              14.310123   \n",
       "xbarbarazhong@gmail.com_6704                 0.584016              14.310123   \n",
       "yoon.s.jeong@gmail.com_6485                  0.500000              14.310123   \n",
       "\n",
       "                                      sessions_per_day  \n",
       "distinct_id                                             \n",
       "00000000-0000-0000-0000-000000000000               NaN  \n",
       "000BA5B1-DBEF-414E-ACEC-1A2FCC2053DD          9.726344  \n",
       "001210DC-54C8-43AD-B295-148F47818391          1.396978  \n",
       "0019C3B9-FA62-4AB4-A895-1390A1FA818C               NaN  \n",
       "0025A8A4-2590-4ECA-8CE8-419D710AE46F          0.070368  \n",
       "...                                                ...  \n",
       "wandaandreu@gmail.com_5053                   -0.728418  \n",
       "willwojt@gmail.com_6868                       0.395124  \n",
       "wolphramite@gmail.com_291                    -0.058196  \n",
       "xbarbarazhong@gmail.com_6704                 24.502956  \n",
       "yoon.s.jeong@gmail.com_6485                  28.620246  \n",
       "\n",
       "[7215 rows x 3 columns]"
      ]
     },
     "execution_count": 18,
     "metadata": {},
     "output_type": "execute_result"
    }
   ],
   "source": [
    "id_timespan_sessions['sessions_per_day'] = id_timespan_sessions['ae_total_app_sessions'] / id_timespan_sessions['active_timespan']\n",
    "id_timespan_sessions"
   ]
  },
  {
   "cell_type": "code",
   "execution_count": 26,
   "metadata": {},
   "outputs": [
    {
     "data": {
      "text/plain": [
       "<matplotlib.collections.PathCollection at 0x11d371208>"
      ]
     },
     "execution_count": 26,
     "metadata": {},
     "output_type": "execute_result"
    },
    {
     "data": {
      "image/png": "[encoded data removed]",
      "text/plain": [
       "<Figure size 432x288 with 1 Axes>"
      ]
     },
     "metadata": {},
     "output_type": "display_data"
    }
   ],
   "source": [
    "plt.xlabel('Active Timespan (Days)')\n",
    "plt.ylabel('Sessions per Day')\n",
    "plt.ylim((0, 10))\n",
    "plt.xlim((0, 400))\n",
    "plt.title('Timespan vs. Sessions Per Day')\n",
    "plt.scatter(id_timespan_sessions['active_timespan'], id_timespan_sessions['sessions_per_day'])"
   ]
  },
  {
   "cell_type": "markdown",
   "metadata": {},
   "source": [
    "### For users with no recorded first_app_open_dates"
   ]
  },
  {
   "cell_type": "markdown",
   "metadata": {},
   "source": [
    "### Making Sessions per Day, Timespan label"
   ]
  },
  {
   "cell_type": "markdown",
   "metadata": {},
   "source": [
    "#### If spd < 0.14 (~ 1 session/week) and timespan < 150: churn\n",
    "#### else: active"
   ]
  },
  {
   "cell_type": "code",
   "execution_count": 22,
   "metadata": {},
   "outputs": [],
   "source": [
    "labels = []\n",
    "for index in id_timespan_sessions.index:\n",
    "    row = id_timespan_sessions.loc[index]\n",
    "    if row['active_timespan'] > 0 and row['active_timespan'] < 150 and row['sessions_per_day'] < 0.14:\n",
    "        labels += [1]\n",
    "    else:\n",
    "        labels += [0]\n",
    "\n",
    "    "
   ]
  },
  {
   "cell_type": "code",
   "execution_count": 23,
   "metadata": {},
   "outputs": [],
   "source": [
    "id_timespan_sessions['churned'] = labels"
   ]
  },
  {
   "cell_type": "code",
   "execution_count": 24,
   "metadata": {},
   "outputs": [
    {
     "data": {
      "text/plain": [
       "(array([6302.,    0.,    0.,    0.,    0.,    0.,    0.,    0.,    0.,\n",
       "         913.]),\n",
       " array([0. , 0.1, 0.2, 0.3, 0.4, 0.5, 0.6, 0.7, 0.8, 0.9, 1. ]),\n",
       " <a list of 10 Patch objects>)"
      ]
     },
     "execution_count": 24,
     "metadata": {},
     "output_type": "execute_result"
    },
    {
     "data": {
      "image/png": "[encoded data removed]",
      "text/plain": [
       "<Figure size 432x288 with 1 Axes>"
      ]
     },
     "metadata": {},
     "output_type": "display_data"
    }
   ],
   "source": [
    "plt.hist(id_timespan_sessions['churned'])"
   ]
  },
  {
   "cell_type": "code",
   "execution_count": null,
   "metadata": {},
   "outputs": [],
   "source": [
    "pd.to_datetime(dataset['time'])\n",
    "\n",
    "np.isnan(dataset['ae_first_app_open_date'][0])"
   ]
  },
  {
   "cell_type": "code",
   "execution_count": null,
   "metadata": {},
   "outputs": [],
   "source": []
  }
 ],
 "metadata": {
  "kernelspec": {
   "display_name": "Python 3",
   "language": "python",
   "name": "python3"
  },
  "language_info": {
   "codemirror_mode": {
    "name": "ipython",
    "version": 3
   },
   "file_extension": ".py",
   "mimetype": "text/x-python",
   "name": "python",
   "nbconvert_exporter": "python",
   "pygments_lexer": "ipython3",
   "version": "3.6.5"
  }
 },
 "nbformat": 4,
 "nbformat_minor": 2
}
