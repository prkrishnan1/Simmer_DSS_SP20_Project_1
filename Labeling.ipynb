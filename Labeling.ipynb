{
 "cells": [
  {
   "cell_type": "code",
   "execution_count": 83,
   "metadata": {},
   "outputs": [],
   "source": [
    "import pandas as pd\n",
    "import numpy as np\n",
    "import matplotlib.pyplot as plt\n",
    "from datetime import datetime, timedelta"
   ]
  },
  {
   "cell_type": "code",
   "execution_count": 84,
   "metadata": {},
   "outputs": [
    {
     "name": "stderr",
     "output_type": "stream",
     "text": [
      "/Users/pranavkrishnan/anaconda3/lib/python3.6/site-packages/IPython/core/interactiveshell.py:2785: DtypeWarning: Columns (3) have mixed types. Specify dtype option on import or set low_memory=False.\n",
      "  interactivity=interactivity, compiler=compiler, result=result)\n"
     ]
    }
   ],
   "source": [
    "dataset = pd.read_csv(\"Cleaned_Data.csv\")"
   ]
  },
  {
   "cell_type": "code",
   "execution_count": 85,
   "metadata": {},
   "outputs": [
    {
     "data": {
      "text/html": [
       "<div>\n",
       "<style scoped>\n",
       "    .dataframe tbody tr th:only-of-type {\n",
       "        vertical-align: middle;\n",
       "    }\n",
       "\n",
       "    .dataframe tbody tr th {\n",
       "        vertical-align: top;\n",
       "    }\n",
       "\n",
       "    .dataframe thead th {\n",
       "        text-align: right;\n",
       "    }\n",
       "</style>\n",
       "<table border=\"1\" class=\"dataframe\">\n",
       "  <thead>\n",
       "    <tr style=\"text-align: right;\">\n",
       "      <th></th>\n",
       "      <th>name_x</th>\n",
       "      <th>distinct_id</th>\n",
       "      <th>time</th>\n",
       "      <th>ae_session_length</th>\n",
       "      <th>city</th>\n",
       "      <th>region</th>\n",
       "      <th>mp_country_code</th>\n",
       "      <th>locationSetting</th>\n",
       "      <th>notificationSettings</th>\n",
       "      <th>FirstTimeUploaded</th>\n",
       "      <th>...</th>\n",
       "      <th>ios_lib_version</th>\n",
       "      <th>ae_first_app_open_date</th>\n",
       "      <th>active_timespan</th>\n",
       "      <th>average_session_time</th>\n",
       "      <th>country</th>\n",
       "      <th>US</th>\n",
       "      <th>Facebook</th>\n",
       "      <th>Foodie</th>\n",
       "      <th>Google</th>\n",
       "      <th>Unknown</th>\n",
       "    </tr>\n",
       "  </thead>\n",
       "  <tbody>\n",
       "    <tr>\n",
       "      <th>0</th>\n",
       "      <td>$ae_session</td>\n",
       "      <td>Gh@g.com_5858</td>\n",
       "      <td>2019-08-19 21:47:54.000000</td>\n",
       "      <td>179.7</td>\n",
       "      <td>Bengaluru</td>\n",
       "      <td>Karnataka</td>\n",
       "      <td>IN</td>\n",
       "      <td>1</td>\n",
       "      <td>0</td>\n",
       "      <td>NaN</td>\n",
       "      <td>...</td>\n",
       "      <td>NaN</td>\n",
       "      <td>NaN</td>\n",
       "      <td>NaN</td>\n",
       "      <td>NaN</td>\n",
       "      <td>INTL</td>\n",
       "      <td>0</td>\n",
       "      <td>0</td>\n",
       "      <td>0</td>\n",
       "      <td>0</td>\n",
       "      <td>0</td>\n",
       "    </tr>\n",
       "    <tr>\n",
       "      <th>1</th>\n",
       "      <td>$ae_session</td>\n",
       "      <td>A5C759A6-9FE5-4071-9D0A-4B91C61F63BD</td>\n",
       "      <td>2020-01-12 07:35:29.000000</td>\n",
       "      <td>16.3</td>\n",
       "      <td>Pasadena</td>\n",
       "      <td>California</td>\n",
       "      <td>US</td>\n",
       "      <td>1</td>\n",
       "      <td>0</td>\n",
       "      <td>NaN</td>\n",
       "      <td>...</td>\n",
       "      <td>NaN</td>\n",
       "      <td>NaN</td>\n",
       "      <td>NaN</td>\n",
       "      <td>NaN</td>\n",
       "      <td>US</td>\n",
       "      <td>1</td>\n",
       "      <td>0</td>\n",
       "      <td>0</td>\n",
       "      <td>0</td>\n",
       "      <td>0</td>\n",
       "    </tr>\n",
       "    <tr>\n",
       "      <th>2</th>\n",
       "      <td>Search - Change Section</td>\n",
       "      <td>4E1A70A0-C2DB-46EB-A9C8-B4F0B0815771</td>\n",
       "      <td>2020-01-12 16:36:27.000000</td>\n",
       "      <td>NaN</td>\n",
       "      <td>Kyiv</td>\n",
       "      <td>Kyiv City</td>\n",
       "      <td>UA</td>\n",
       "      <td>1</td>\n",
       "      <td>0</td>\n",
       "      <td>NaN</td>\n",
       "      <td>...</td>\n",
       "      <td>3.4.9</td>\n",
       "      <td>2019-11-21 11:58:17+00:00</td>\n",
       "      <td>119 days 05:44:04.000000000</td>\n",
       "      <td>203.72842</td>\n",
       "      <td>INTL</td>\n",
       "      <td>0</td>\n",
       "      <td>1</td>\n",
       "      <td>0</td>\n",
       "      <td>0</td>\n",
       "      <td>0</td>\n",
       "    </tr>\n",
       "    <tr>\n",
       "      <th>3</th>\n",
       "      <td>Onboarding - Allow Location</td>\n",
       "      <td>C9434897-9F99-4D5F-B9D3-A3E8DAFC0B74</td>\n",
       "      <td>2020-01-12 16:36:44.000000</td>\n",
       "      <td>NaN</td>\n",
       "      <td>Mill Valley</td>\n",
       "      <td>California</td>\n",
       "      <td>US</td>\n",
       "      <td>1</td>\n",
       "      <td>1</td>\n",
       "      <td>NaN</td>\n",
       "      <td>...</td>\n",
       "      <td>NaN</td>\n",
       "      <td>NaN</td>\n",
       "      <td>NaN</td>\n",
       "      <td>NaN</td>\n",
       "      <td>US</td>\n",
       "      <td>1</td>\n",
       "      <td>0</td>\n",
       "      <td>0</td>\n",
       "      <td>0</td>\n",
       "      <td>0</td>\n",
       "    </tr>\n",
       "    <tr>\n",
       "      <th>4</th>\n",
       "      <td>$ae_session</td>\n",
       "      <td>4E1A70A0-C2DB-46EB-A9C8-B4F0B0815771</td>\n",
       "      <td>2020-01-12 16:40:32.000000</td>\n",
       "      <td>106.7</td>\n",
       "      <td>Kyiv</td>\n",
       "      <td>Kyiv City</td>\n",
       "      <td>UA</td>\n",
       "      <td>1</td>\n",
       "      <td>1</td>\n",
       "      <td>NaN</td>\n",
       "      <td>...</td>\n",
       "      <td>3.4.9</td>\n",
       "      <td>2019-11-21 11:58:17+00:00</td>\n",
       "      <td>119 days 05:44:04.000000000</td>\n",
       "      <td>203.72842</td>\n",
       "      <td>INTL</td>\n",
       "      <td>0</td>\n",
       "      <td>1</td>\n",
       "      <td>0</td>\n",
       "      <td>0</td>\n",
       "      <td>0</td>\n",
       "    </tr>\n",
       "  </tbody>\n",
       "</table>\n",
       "<p>5 rows × 32 columns</p>\n",
       "</div>"
      ],
      "text/plain": [
       "                        name_x                           distinct_id  \\\n",
       "0                  $ae_session                         Gh@g.com_5858   \n",
       "1                  $ae_session  A5C759A6-9FE5-4071-9D0A-4B91C61F63BD   \n",
       "2      Search - Change Section  4E1A70A0-C2DB-46EB-A9C8-B4F0B0815771   \n",
       "3  Onboarding - Allow Location  C9434897-9F99-4D5F-B9D3-A3E8DAFC0B74   \n",
       "4                  $ae_session  4E1A70A0-C2DB-46EB-A9C8-B4F0B0815771   \n",
       "\n",
       "                         time ae_session_length         city      region  \\\n",
       "0  2019-08-19 21:47:54.000000             179.7    Bengaluru   Karnataka   \n",
       "1  2020-01-12 07:35:29.000000              16.3     Pasadena  California   \n",
       "2  2020-01-12 16:36:27.000000               NaN         Kyiv   Kyiv City   \n",
       "3  2020-01-12 16:36:44.000000               NaN  Mill Valley  California   \n",
       "4  2020-01-12 16:40:32.000000             106.7         Kyiv   Kyiv City   \n",
       "\n",
       "  mp_country_code  locationSetting  notificationSettings FirstTimeUploaded  \\\n",
       "0              IN                1                     0               NaN   \n",
       "1              US                1                     0               NaN   \n",
       "2              UA                1                     0               NaN   \n",
       "3              US                1                     1               NaN   \n",
       "4              UA                1                     1               NaN   \n",
       "\n",
       "   ... ios_lib_version     ae_first_app_open_date  \\\n",
       "0  ...             NaN                        NaN   \n",
       "1  ...             NaN                        NaN   \n",
       "2  ...           3.4.9  2019-11-21 11:58:17+00:00   \n",
       "3  ...             NaN                        NaN   \n",
       "4  ...           3.4.9  2019-11-21 11:58:17+00:00   \n",
       "\n",
       "               active_timespan  average_session_time country  US  Facebook  \\\n",
       "0                          NaN                   NaN    INTL   0         0   \n",
       "1                          NaN                   NaN      US   1         0   \n",
       "2  119 days 05:44:04.000000000             203.72842    INTL   0         1   \n",
       "3                          NaN                   NaN      US   1         0   \n",
       "4  119 days 05:44:04.000000000             203.72842    INTL   0         1   \n",
       "\n",
       "  Foodie Google Unknown  \n",
       "0      0      0       0  \n",
       "1      0      0       0  \n",
       "2      0      0       0  \n",
       "3      0      0       0  \n",
       "4      0      0       0  \n",
       "\n",
       "[5 rows x 32 columns]"
      ]
     },
     "execution_count": 85,
     "metadata": {},
     "output_type": "execute_result"
    }
   ],
   "source": [
    "dataset.head()"
   ]
  },
  {
   "cell_type": "code",
   "execution_count": 86,
   "metadata": {},
   "outputs": [],
   "source": [
    "dataset['active_timespan'] = pd.to_datetime(dataset['last_seen']) - pd.to_datetime(dataset['ae_first_app_open_date'])"
   ]
  },
  {
   "cell_type": "code",
   "execution_count": 87,
   "metadata": {},
   "outputs": [
    {
     "data": {
      "text/plain": [
       "Series([], Name: ae_total_app_sessions, dtype: int64)"
      ]
     },
     "execution_count": 87,
     "metadata": {},
     "output_type": "execute_result"
    }
   ],
   "source": [
    "dataset[['distinct_id','ae_total_app_sessions']][dataset['distinct_id'] == 'DB387857-02A8-4BBF-B299-450EDB8C9560']['ae_total_app_sessions'].value_counts()"
   ]
  },
  {
   "cell_type": "code",
   "execution_count": 91,
   "metadata": {},
   "outputs": [
    {
     "data": {
      "text/html": [
       "<div>\n",
       "<style scoped>\n",
       "    .dataframe tbody tr th:only-of-type {\n",
       "        vertical-align: middle;\n",
       "    }\n",
       "\n",
       "    .dataframe tbody tr th {\n",
       "        vertical-align: top;\n",
       "    }\n",
       "\n",
       "    .dataframe thead th {\n",
       "        text-align: right;\n",
       "    }\n",
       "</style>\n",
       "<table border=\"1\" class=\"dataframe\">\n",
       "  <thead>\n",
       "    <tr style=\"text-align: right;\">\n",
       "      <th></th>\n",
       "      <th>distinct_id</th>\n",
       "      <th>ae_total_app_sessions</th>\n",
       "      <th>active_timespan</th>\n",
       "      <th>ae_first_app_open_date</th>\n",
       "    </tr>\n",
       "  </thead>\n",
       "  <tbody>\n",
       "    <tr>\n",
       "      <th>2</th>\n",
       "      <td>4E1A70A0-C2DB-46EB-A9C8-B4F0B0815771</td>\n",
       "      <td>3012.0</td>\n",
       "      <td>119 days 05:44:04</td>\n",
       "      <td>2019-11-21 11:58:17+00:00</td>\n",
       "    </tr>\n",
       "    <tr>\n",
       "      <th>4</th>\n",
       "      <td>4E1A70A0-C2DB-46EB-A9C8-B4F0B0815771</td>\n",
       "      <td>3012.0</td>\n",
       "      <td>119 days 05:44:04</td>\n",
       "      <td>2019-11-21 11:58:17+00:00</td>\n",
       "    </tr>\n",
       "    <tr>\n",
       "      <th>5</th>\n",
       "      <td>4E1A70A0-C2DB-46EB-A9C8-B4F0B0815771</td>\n",
       "      <td>3012.0</td>\n",
       "      <td>119 days 05:44:04</td>\n",
       "      <td>2019-11-21 11:58:17+00:00</td>\n",
       "    </tr>\n",
       "    <tr>\n",
       "      <th>6</th>\n",
       "      <td>4E1A70A0-C2DB-46EB-A9C8-B4F0B0815771</td>\n",
       "      <td>3012.0</td>\n",
       "      <td>119 days 05:44:04</td>\n",
       "      <td>2019-11-21 11:58:17+00:00</td>\n",
       "    </tr>\n",
       "    <tr>\n",
       "      <th>7</th>\n",
       "      <td>4E1A70A0-C2DB-46EB-A9C8-B4F0B0815771</td>\n",
       "      <td>3012.0</td>\n",
       "      <td>119 days 05:44:04</td>\n",
       "      <td>2019-11-21 11:58:17+00:00</td>\n",
       "    </tr>\n",
       "    <tr>\n",
       "      <th>...</th>\n",
       "      <td>...</td>\n",
       "      <td>...</td>\n",
       "      <td>...</td>\n",
       "      <td>...</td>\n",
       "    </tr>\n",
       "    <tr>\n",
       "      <th>190347</th>\n",
       "      <td>vaibhavverma9@uchicago.edu_56</td>\n",
       "      <td>2621.0</td>\n",
       "      <td>NaT</td>\n",
       "      <td>NaN</td>\n",
       "    </tr>\n",
       "    <tr>\n",
       "      <th>190348</th>\n",
       "      <td>vaibhavverma9@uchicago.edu_56</td>\n",
       "      <td>2621.0</td>\n",
       "      <td>NaT</td>\n",
       "      <td>NaN</td>\n",
       "    </tr>\n",
       "    <tr>\n",
       "      <th>190349</th>\n",
       "      <td>vaibhavverma9@uchicago.edu_56</td>\n",
       "      <td>2621.0</td>\n",
       "      <td>NaT</td>\n",
       "      <td>NaN</td>\n",
       "    </tr>\n",
       "    <tr>\n",
       "      <th>190353</th>\n",
       "      <td>vaibhavverma9@uchicago.edu_56</td>\n",
       "      <td>2621.0</td>\n",
       "      <td>NaT</td>\n",
       "      <td>NaN</td>\n",
       "    </tr>\n",
       "    <tr>\n",
       "      <th>190370</th>\n",
       "      <td>5A25D893-F12F-4DB8-BFE6-99BAD3451788</td>\n",
       "      <td>38.0</td>\n",
       "      <td>78 days 14:06:54</td>\n",
       "      <td>2020-01-10 05:36:55+00:00</td>\n",
       "    </tr>\n",
       "  </tbody>\n",
       "</table>\n",
       "<p>93058 rows × 4 columns</p>\n",
       "</div>"
      ],
      "text/plain": [
       "                                 distinct_id  ae_total_app_sessions  \\\n",
       "2       4E1A70A0-C2DB-46EB-A9C8-B4F0B0815771                 3012.0   \n",
       "4       4E1A70A0-C2DB-46EB-A9C8-B4F0B0815771                 3012.0   \n",
       "5       4E1A70A0-C2DB-46EB-A9C8-B4F0B0815771                 3012.0   \n",
       "6       4E1A70A0-C2DB-46EB-A9C8-B4F0B0815771                 3012.0   \n",
       "7       4E1A70A0-C2DB-46EB-A9C8-B4F0B0815771                 3012.0   \n",
       "...                                      ...                    ...   \n",
       "190347         vaibhavverma9@uchicago.edu_56                 2621.0   \n",
       "190348         vaibhavverma9@uchicago.edu_56                 2621.0   \n",
       "190349         vaibhavverma9@uchicago.edu_56                 2621.0   \n",
       "190353         vaibhavverma9@uchicago.edu_56                 2621.0   \n",
       "190370  5A25D893-F12F-4DB8-BFE6-99BAD3451788                   38.0   \n",
       "\n",
       "         active_timespan     ae_first_app_open_date  \n",
       "2      119 days 05:44:04  2019-11-21 11:58:17+00:00  \n",
       "4      119 days 05:44:04  2019-11-21 11:58:17+00:00  \n",
       "5      119 days 05:44:04  2019-11-21 11:58:17+00:00  \n",
       "6      119 days 05:44:04  2019-11-21 11:58:17+00:00  \n",
       "7      119 days 05:44:04  2019-11-21 11:58:17+00:00  \n",
       "...                  ...                        ...  \n",
       "190347               NaT                        NaN  \n",
       "190348               NaT                        NaN  \n",
       "190349               NaT                        NaN  \n",
       "190353               NaT                        NaN  \n",
       "190370  78 days 14:06:54  2020-01-10 05:36:55+00:00  \n",
       "\n",
       "[93058 rows x 4 columns]"
      ]
     },
     "execution_count": 91,
     "metadata": {},
     "output_type": "execute_result"
    }
   ],
   "source": [
    "app_sessions_timespan = dataset[['distinct_id','ae_total_app_sessions']][-dataset['ae_total_app_sessions'].isnull()]\n",
    "app_sessions_timespan"
   ]
  },
  {
   "cell_type": "code",
   "execution_count": 94,
   "metadata": {},
   "outputs": [
    {
     "data": {
      "text/plain": [
       "nb@gmail.com_93                  18347\n",
       "richard.z.wu@gmail.com_136        6437\n",
       "vaibhavverma9@uchicago.edu_56     5482\n",
       "mai.nabar@gmail.com_104           3200\n",
       "hr@gmail.com_87                   2170\n",
       "d2baa8a36ca0137d                  1984\n",
       "Dzavala@uchicago.edu_118          1895\n",
       "eemilyshenn@gmail.com_227         1472\n",
       "scao21@uchicago.edu_116           1176\n",
       "jeencall@yahoo.com_248             713\n",
       "spatel@gmail.com_53                656\n",
       "harshil1088@gmail.com_51           528\n",
       "andrewjabara@gmail.com_311         437\n",
       "rickeatsdc@gmail.com_6802          279\n",
       "arvindverma5@gmail.com_67          126\n",
       "girlsrule728@gmail.com_180         109\n",
       "addidas23@gmail.com_139             94\n",
       "ca8jessica17@gmail.com_277          69\n",
       "rebeccaqian@uchicago.edu_271        64\n",
       "hgiovannelli@uchicago.edu_308       59\n",
       "psteelers10@gmail.com_238           55\n",
       "surelyfoodhere@gmail.com_318        46\n",
       "cj96n@hotmail.com_181               33\n",
       "jamesyoungny@gmail.com_152          32\n",
       "a.road100@gmail.com_199             25\n",
       "joefennessey23@yahoo.com_145        19\n",
       "undefined_305                        5\n",
       "nathanlee@uchicago.edu_208           4\n",
       "3e251e7a5fa70497                     2\n",
       "Name: distinct_id, dtype: int64"
      ]
     },
     "execution_count": 94,
     "metadata": {},
     "output_type": "execute_result"
    }
   ],
   "source": [
    "app_sessions_timespan[app_sessions_timespan['ae_first_app_open_date'].isnull()]['distinct_id'].value_counts()"
   ]
  },
  {
   "cell_type": "code",
   "execution_count": 89,
   "metadata": {},
   "outputs": [
    {
     "data": {
      "text/html": [
       "<div>\n",
       "<style scoped>\n",
       "    .dataframe tbody tr th:only-of-type {\n",
       "        vertical-align: middle;\n",
       "    }\n",
       "\n",
       "    .dataframe tbody tr th {\n",
       "        vertical-align: top;\n",
       "    }\n",
       "\n",
       "    .dataframe thead th {\n",
       "        text-align: right;\n",
       "    }\n",
       "</style>\n",
       "<table border=\"1\" class=\"dataframe\">\n",
       "  <thead>\n",
       "    <tr style=\"text-align: right;\">\n",
       "      <th></th>\n",
       "      <th>ae_total_app_sessions</th>\n",
       "    </tr>\n",
       "    <tr>\n",
       "      <th>distinct_id</th>\n",
       "      <th></th>\n",
       "    </tr>\n",
       "  </thead>\n",
       "  <tbody>\n",
       "    <tr>\n",
       "      <th>04ADA4C3-9212-49DA-B600-67A8403D69C3</th>\n",
       "      <td>45.0</td>\n",
       "    </tr>\n",
       "    <tr>\n",
       "      <th>054528AB-F5A3-4C47-A572-A32F9D57C9D1</th>\n",
       "      <td>41.0</td>\n",
       "    </tr>\n",
       "    <tr>\n",
       "      <th>06734B33-C7EE-4CA7-9643-7C27BB6B509F</th>\n",
       "      <td>45.0</td>\n",
       "    </tr>\n",
       "    <tr>\n",
       "      <th>09353F2A-56B0-4BF8-B532-C8B9B25BCC80</th>\n",
       "      <td>66.0</td>\n",
       "    </tr>\n",
       "    <tr>\n",
       "      <th>0A9EAE40-440D-4292-91CE-1817EC1C5E82</th>\n",
       "      <td>62.0</td>\n",
       "    </tr>\n",
       "    <tr>\n",
       "      <th>...</th>\n",
       "      <td>...</td>\n",
       "    </tr>\n",
       "    <tr>\n",
       "      <th>scao21@uchicago.edu_116</th>\n",
       "      <td>914.0</td>\n",
       "    </tr>\n",
       "    <tr>\n",
       "      <th>spatel@gmail.com_53</th>\n",
       "      <td>626.0</td>\n",
       "    </tr>\n",
       "    <tr>\n",
       "      <th>surelyfoodhere@gmail.com_318</th>\n",
       "      <td>54.0</td>\n",
       "    </tr>\n",
       "    <tr>\n",
       "      <th>undefined_305</th>\n",
       "      <td>56.0</td>\n",
       "    </tr>\n",
       "    <tr>\n",
       "      <th>vaibhavverma9@uchicago.edu_56</th>\n",
       "      <td>2621.0</td>\n",
       "    </tr>\n",
       "  </tbody>\n",
       "</table>\n",
       "<p>131 rows × 1 columns</p>\n",
       "</div>"
      ],
      "text/plain": [
       "                                      ae_total_app_sessions\n",
       "distinct_id                                                \n",
       "04ADA4C3-9212-49DA-B600-67A8403D69C3                   45.0\n",
       "054528AB-F5A3-4C47-A572-A32F9D57C9D1                   41.0\n",
       "06734B33-C7EE-4CA7-9643-7C27BB6B509F                   45.0\n",
       "09353F2A-56B0-4BF8-B532-C8B9B25BCC80                   66.0\n",
       "0A9EAE40-440D-4292-91CE-1817EC1C5E82                   62.0\n",
       "...                                                     ...\n",
       "scao21@uchicago.edu_116                               914.0\n",
       "spatel@gmail.com_53                                   626.0\n",
       "surelyfoodhere@gmail.com_318                           54.0\n",
       "undefined_305                                          56.0\n",
       "vaibhavverma9@uchicago.edu_56                        2621.0\n",
       "\n",
       "[131 rows x 1 columns]"
      ]
     },
     "execution_count": 89,
     "metadata": {},
     "output_type": "execute_result"
    }
   ],
   "source": [
    "id_sessions = app_sessions_timespan.groupby('distinct_id').agg(np.mean)\n",
    "id_sessions"
   ]
  },
  {
   "cell_type": "code",
   "execution_count": 41,
   "metadata": {},
   "outputs": [
    {
     "data": {
      "text/plain": [
       "(array([116.,   3.,   2.,   2.,   1.,   0.,   2.,   2.,   1.,   2.]),\n",
       " array([  31. ,  385.9,  740.8, 1095.7, 1450.6, 1805.5, 2160.4, 2515.3,\n",
       "        2870.2, 3225.1, 3580. ]),\n",
       " <a list of 10 Patch objects>)"
      ]
     },
     "execution_count": 41,
     "metadata": {},
     "output_type": "execute_result"
    },
    {
     "data": {
      "image/png": "[encoded data removed]",
      "text/plain": [
       "<Figure size 432x288 with 1 Axes>"
      ]
     },
     "metadata": {},
     "output_type": "display_data"
    }
   ],
   "source": [
    "plt.title('Histogram of Total App Sessions')\n",
    "plt.hist(id_sessions['ae_total_app_sessions'])"
   ]
  },
  {
   "cell_type": "code",
   "execution_count": 60,
   "metadata": {},
   "outputs": [
    {
     "data": {
      "text/plain": [
       "(array([27., 21., 20., 11.,  4.,  4.,  3.,  1.,  3.,  5.,  3.,  4.,  0.,\n",
       "         1.,  3.,  0.,  2.,  0.,  0.,  0.,  0.,  0.,  2.,  0.,  1.,  0.,\n",
       "         0.,  0.,  0.,  0.,  0.,  0.,  0.,  0.,  1.,  0.,  1.,  0.,  0.,\n",
       "         0.,  0.,  1.,  0.,  0.,  0.,  0.,  0.]),\n",
       " array([ 30.,  40.,  50.,  60.,  70.,  80.,  90., 100., 110., 120., 130.,\n",
       "        140., 150., 160., 170., 180., 190., 200., 210., 220., 230., 240.,\n",
       "        250., 260., 270., 280., 290., 300., 310., 320., 330., 340., 350.,\n",
       "        360., 370., 380., 390., 400., 410., 420., 430., 440., 450., 460.,\n",
       "        470., 480., 490., 500.]),\n",
       " <a list of 47 Patch objects>)"
      ]
     },
     "execution_count": 60,
     "metadata": {},
     "output_type": "execute_result"
    },
    {
     "data": {
      "image/png": "[encoded data removed]",
      "text/plain": [
       "<Figure size 432x288 with 1 Axes>"
      ]
     },
     "metadata": {},
     "output_type": "display_data"
    }
   ],
   "source": [
    "plt.title('Histogram with Bins 30-500 Size 10')\n",
    "plt.hist(id_sessions['ae_total_app_sessions'], bins=np.linspace(30, 500, 48))"
   ]
  },
  {
   "cell_type": "code",
   "execution_count": 107,
   "metadata": {},
   "outputs": [],
   "source": [
    "timespan = dataset[['distinct_id', 'active_timespan', 'ae_first_app_open_date']][-dataset['ae_first_app_open_date'].isnull()]"
   ]
  },
  {
   "cell_type": "code",
   "execution_count": 108,
   "metadata": {},
   "outputs": [],
   "source": [
    "timespan['active_timespan'] = [elem.total_seconds() for elem in timespan['active_timespan']]\n",
    "# id_timespan = timespan.groupby('active_timespan').agg(np.mean)\n"
   ]
  },
  {
   "cell_type": "code",
   "execution_count": 109,
   "metadata": {},
   "outputs": [],
   "source": [
    "id_timespan = timespan.groupby('distinct_id').agg(np.mean)"
   ]
  },
  {
   "cell_type": "code",
   "execution_count": 118,
   "metadata": {},
   "outputs": [],
   "source": [
    "id_timespan_sessions = id_timespan.merge(id_sessions, how='inner', left_index=True, right_index=True)\n",
    "id_timespan_sessions['active_timespan'] = id_timespan_sessions['active_timespan'] / (60 * 60 * 24)"
   ]
  },
  {
   "cell_type": "code",
   "execution_count": 120,
   "metadata": {},
   "outputs": [
    {
     "data": {
      "text/plain": [
       "<matplotlib.collections.PathCollection at 0x135938cc0>"
      ]
     },
     "execution_count": 120,
     "metadata": {},
     "output_type": "execute_result"
    },
    {
     "data": {
      "image/png": "[encoded data removed]",
      "text/plain": [
       "<Figure size 432x288 with 1 Axes>"
      ]
     },
     "metadata": {},
     "output_type": "display_data"
    }
   ],
   "source": [
    "plt.xlabel('Active Timespan (Days)')\n",
    "plt.ylabel('Number of sessions')\n",
    "plt.title('Timespan vs. Num sessions')\n",
    "plt.scatter(id_timespan_sessions['active_timespan'], id_timespan_sessions['ae_total_app_sessions'])"
   ]
  },
  {
   "cell_type": "code",
   "execution_count": 121,
   "metadata": {},
   "outputs": [
    {
     "data": {
      "text/html": [
       "<div>\n",
       "<style scoped>\n",
       "    .dataframe tbody tr th:only-of-type {\n",
       "        vertical-align: middle;\n",
       "    }\n",
       "\n",
       "    .dataframe tbody tr th {\n",
       "        vertical-align: top;\n",
       "    }\n",
       "\n",
       "    .dataframe thead th {\n",
       "        text-align: right;\n",
       "    }\n",
       "</style>\n",
       "<table border=\"1\" class=\"dataframe\">\n",
       "  <thead>\n",
       "    <tr style=\"text-align: right;\">\n",
       "      <th></th>\n",
       "      <th>active_timespan</th>\n",
       "      <th>ae_total_app_sessions</th>\n",
       "      <th>sessions_per_day</th>\n",
       "    </tr>\n",
       "    <tr>\n",
       "      <th>distinct_id</th>\n",
       "      <th></th>\n",
       "      <th></th>\n",
       "      <th></th>\n",
       "    </tr>\n",
       "  </thead>\n",
       "  <tbody>\n",
       "    <tr>\n",
       "      <th>04ADA4C3-9212-49DA-B600-67A8403D69C3</th>\n",
       "      <td>221.477315</td>\n",
       "      <td>45.0</td>\n",
       "      <td>0.203181</td>\n",
       "    </tr>\n",
       "    <tr>\n",
       "      <th>054528AB-F5A3-4C47-A572-A32F9D57C9D1</th>\n",
       "      <td>436.118981</td>\n",
       "      <td>41.0</td>\n",
       "      <td>0.094011</td>\n",
       "    </tr>\n",
       "    <tr>\n",
       "      <th>06734B33-C7EE-4CA7-9643-7C27BB6B509F</th>\n",
       "      <td>411.351875</td>\n",
       "      <td>45.0</td>\n",
       "      <td>0.109395</td>\n",
       "    </tr>\n",
       "    <tr>\n",
       "      <th>09353F2A-56B0-4BF8-B532-C8B9B25BCC80</th>\n",
       "      <td>82.396042</td>\n",
       "      <td>66.0</td>\n",
       "      <td>0.801009</td>\n",
       "    </tr>\n",
       "    <tr>\n",
       "      <th>0A9EAE40-440D-4292-91CE-1817EC1C5E82</th>\n",
       "      <td>28.926169</td>\n",
       "      <td>62.0</td>\n",
       "      <td>2.143388</td>\n",
       "    </tr>\n",
       "    <tr>\n",
       "      <th>...</th>\n",
       "      <td>...</td>\n",
       "      <td>...</td>\n",
       "      <td>...</td>\n",
       "    </tr>\n",
       "    <tr>\n",
       "      <th>F8B626E6-C04A-450B-8736-2769C564A03C</th>\n",
       "      <td>49.483993</td>\n",
       "      <td>42.0</td>\n",
       "      <td>0.848759</td>\n",
       "    </tr>\n",
       "    <tr>\n",
       "      <th>FC9EF9C7-23BA-4B05-93EC-CC18F95EDEC1</th>\n",
       "      <td>378.970162</td>\n",
       "      <td>143.0</td>\n",
       "      <td>0.377338</td>\n",
       "    </tr>\n",
       "    <tr>\n",
       "      <th>FE221C6D-8605-42E4-9249-2E8420994F1B</th>\n",
       "      <td>169.346921</td>\n",
       "      <td>31.0</td>\n",
       "      <td>0.183056</td>\n",
       "    </tr>\n",
       "    <tr>\n",
       "      <th>FE4D7209-BC02-466C-A293-AC822D08BEB4</th>\n",
       "      <td>144.644595</td>\n",
       "      <td>56.0</td>\n",
       "      <td>0.387156</td>\n",
       "    </tr>\n",
       "    <tr>\n",
       "      <th>ab.codebase@gmail.com_52</th>\n",
       "      <td>211.275891</td>\n",
       "      <td>2253.0</td>\n",
       "      <td>10.663782</td>\n",
       "    </tr>\n",
       "  </tbody>\n",
       "</table>\n",
       "<p>102 rows × 3 columns</p>\n",
       "</div>"
      ],
      "text/plain": [
       "                                      active_timespan  ae_total_app_sessions  \\\n",
       "distinct_id                                                                    \n",
       "04ADA4C3-9212-49DA-B600-67A8403D69C3       221.477315                   45.0   \n",
       "054528AB-F5A3-4C47-A572-A32F9D57C9D1       436.118981                   41.0   \n",
       "06734B33-C7EE-4CA7-9643-7C27BB6B509F       411.351875                   45.0   \n",
       "09353F2A-56B0-4BF8-B532-C8B9B25BCC80        82.396042                   66.0   \n",
       "0A9EAE40-440D-4292-91CE-1817EC1C5E82        28.926169                   62.0   \n",
       "...                                               ...                    ...   \n",
       "F8B626E6-C04A-450B-8736-2769C564A03C        49.483993                   42.0   \n",
       "FC9EF9C7-23BA-4B05-93EC-CC18F95EDEC1       378.970162                  143.0   \n",
       "FE221C6D-8605-42E4-9249-2E8420994F1B       169.346921                   31.0   \n",
       "FE4D7209-BC02-466C-A293-AC822D08BEB4       144.644595                   56.0   \n",
       "ab.codebase@gmail.com_52                   211.275891                 2253.0   \n",
       "\n",
       "                                      sessions_per_day  \n",
       "distinct_id                                             \n",
       "04ADA4C3-9212-49DA-B600-67A8403D69C3          0.203181  \n",
       "054528AB-F5A3-4C47-A572-A32F9D57C9D1          0.094011  \n",
       "06734B33-C7EE-4CA7-9643-7C27BB6B509F          0.109395  \n",
       "09353F2A-56B0-4BF8-B532-C8B9B25BCC80          0.801009  \n",
       "0A9EAE40-440D-4292-91CE-1817EC1C5E82          2.143388  \n",
       "...                                                ...  \n",
       "F8B626E6-C04A-450B-8736-2769C564A03C          0.848759  \n",
       "FC9EF9C7-23BA-4B05-93EC-CC18F95EDEC1          0.377338  \n",
       "FE221C6D-8605-42E4-9249-2E8420994F1B          0.183056  \n",
       "FE4D7209-BC02-466C-A293-AC822D08BEB4          0.387156  \n",
       "ab.codebase@gmail.com_52                     10.663782  \n",
       "\n",
       "[102 rows x 3 columns]"
      ]
     },
     "execution_count": 121,
     "metadata": {},
     "output_type": "execute_result"
    }
   ],
   "source": [
    "id_timespan_sessions['sessions_per_day'] = id_timespan_sessions['ae_total_app_sessions'] / id_timespan_sessions['active_timespan']\n",
    "id_timespan_sessions"
   ]
  },
  {
   "cell_type": "code",
   "execution_count": 122,
   "metadata": {},
   "outputs": [
    {
     "data": {
      "text/plain": [
       "<matplotlib.collections.PathCollection at 0x135f985c0>"
      ]
     },
     "execution_count": 122,
     "metadata": {},
     "output_type": "execute_result"
    },
    {
     "data": {
      "image/png": "[encoded data removed]",
      "text/plain": [
       "<Figure size 432x288 with 1 Axes>"
      ]
     },
     "metadata": {},
     "output_type": "display_data"
    }
   ],
   "source": [
    "plt.xlabel('Active Timespan (Days)')\n",
    "plt.ylabel('Sessions per Day')\n",
    "plt.title('Timespan vs. Sessions Per Day')\n",
    "plt.scatter(id_timespan_sessions['active_timespan'], id_timespan_sessions['sessions_per_day'])"
   ]
  },
  {
   "cell_type": "code",
   "execution_count": null,
   "metadata": {},
   "outputs": [],
   "source": []
  }
 ],
 "metadata": {
  "kernelspec": {
   "display_name": "Python 3",
   "language": "python",
   "name": "python3"
  },
  "language_info": {
   "codemirror_mode": {
    "name": "ipython",
    "version": 3
   },
   "file_extension": ".py",
   "mimetype": "text/x-python",
   "name": "python",
   "nbconvert_exporter": "python",
   "pygments_lexer": "ipython3",
   "version": "3.6.5"
  }
 },
 "nbformat": 4,
 "nbformat_minor": 2
}
