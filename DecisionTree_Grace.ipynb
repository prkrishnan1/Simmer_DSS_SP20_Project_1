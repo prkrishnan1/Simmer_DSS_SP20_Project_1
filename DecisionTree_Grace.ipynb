{
 "cells": [
  {
   "cell_type": "code",
   "execution_count": 1,
   "metadata": {},
   "outputs": [],
   "source": [
    "import pandas as pd\n",
    "import numpy as np"
   ]
  },
  {
   "cell_type": "code",
   "execution_count": 8,
   "metadata": {},
   "outputs": [],
   "source": [
    "from sklearn.tree import DecisionTreeClassifier # Import Decision Tree Classifier\n",
    "from sklearn.model_selection import train_test_split # Import train_test_split function\n",
    "from sklearn import metrics"
   ]
  },
  {
   "cell_type": "code",
   "execution_count": 6,
   "metadata": {},
   "outputs": [],
   "source": [
    "df = pd.read_csv('labeled_data_with_metrics.csv')\n",
    "df = df.drop(columns=['Unnamed: 0'])"
   ]
  },
  {
   "cell_type": "code",
   "execution_count": 25,
   "metadata": {},
   "outputs": [
    {
     "data": {
      "text/plain": [
       "Index(['distinct_id', 'locationSetting', 'notificationSettings',\n",
       "       'active_timespan', 'US', 'Facebook', 'Foodie', 'Google', 'Unknown',\n",
       "       'num_sessions', 'sessions_per_day', 'America/New_York',\n",
       "       'America/Los_Angeles', 'America/Chicago', 'Asia/Kolkata',\n",
       "       'America/Denver', 'other_timezone', 'commentAdded', 'commentLength',\n",
       "       'churned', 'number_ratings', 'SQS', 'avg_session_duration',\n",
       "       'time_delta_slope', 'session_time_slope', 'time_delta_slope_90',\n",
       "       'session_time_slope_90'],\n",
       "      dtype='object')"
      ]
     },
     "execution_count": 25,
     "metadata": {},
     "output_type": "execute_result"
    }
   ],
   "source": [
    "df.columns"
   ]
  },
  {
   "cell_type": "code",
   "execution_count": 98,
   "metadata": {},
   "outputs": [],
   "source": [
    "feature_cols = ['SQS', 'avg_session_duration', 'time_delta_slope', 'session_time_slope',\n",
    "                'other_timezone', 'US', 'Unknown']\n",
    "feature_cols = ['SQS', 'avg_session_duration', 'Unknown', 'time_delta_slope', 'US', 'session_time_slope']\n",
    "X = df[feature_cols] # Features\n",
    "y = df.churned # Target variable"
   ]
  },
  {
   "cell_type": "code",
   "execution_count": 99,
   "metadata": {},
   "outputs": [],
   "source": [
    "X_train, X_test, y_train, y_test = train_test_split(X, y, test_size=0.3, random_state=42)"
   ]
  },
  {
   "cell_type": "code",
   "execution_count": 100,
   "metadata": {},
   "outputs": [],
   "source": [
    "# Create Decision Tree classifer object\n",
    "clf = DecisionTreeClassifier()\n",
    "\n",
    "# Train Decision Tree Classifer\n",
    "clf = clf.fit(X_train,y_train)\n",
    "\n",
    "#Predict the response for test dataset\n",
    "y_pred = clf.predict(X_test)"
   ]
  },
  {
   "cell_type": "code",
   "execution_count": 101,
   "metadata": {},
   "outputs": [
    {
     "name": "stdout",
     "output_type": "stream",
     "text": [
      "Accuracy: 0.8424942263279446\n"
     ]
    }
   ],
   "source": [
    "# Model Accuracy, how often is the classifier correct?\n",
    "print(\"Accuracy:\",metrics.accuracy_score(y_test, y_pred))"
   ]
  },
  {
   "cell_type": "code",
   "execution_count": 102,
   "metadata": {},
   "outputs": [],
   "source": [
    "from sklearn.tree import export_graphviz\n",
    "from sklearn.externals.six import StringIO  \n",
    "from IPython.display import Image  \n",
    "import pydotplus\n",
    "\n",
    "dot_data = StringIO()\n",
    "export_graphviz(clf, out_file=dot_data,  \n",
    "                filled=True, rounded=True,\n",
    "                special_characters=True,feature_names = X.columns,class_names=['0','1'])\n",
    "graph = pydotplus.graph_from_dot_data(dot_data.getvalue())  \n",
    "#graph.write_png('churn.png')\n",
    "#Image(graph.create_png())"
   ]
  },
  {
   "cell_type": "code",
   "execution_count": 103,
   "metadata": {},
   "outputs": [
    {
     "name": "stdout",
     "output_type": "stream",
     "text": [
      "[[874 191]\n",
      " [150 950]]\n",
      "              precision    recall  f1-score   support\n",
      "\n",
      "           0       0.85      0.82      0.84      1065\n",
      "           1       0.83      0.86      0.85      1100\n",
      "\n",
      "    accuracy                           0.84      2165\n",
      "   macro avg       0.84      0.84      0.84      2165\n",
      "weighted avg       0.84      0.84      0.84      2165\n",
      "\n"
     ]
    }
   ],
   "source": [
    "from sklearn.metrics import classification_report, confusion_matrix\n",
    "print(confusion_matrix(y_test, y_pred))\n",
    "print(classification_report(y_test, y_pred))"
   ]
  },
  {
   "cell_type": "code",
   "execution_count": 104,
   "metadata": {},
   "outputs": [],
   "source": [
    "#Import Random Forest Model\n",
    "from sklearn.ensemble import RandomForestClassifier\n",
    "\n",
    "#Create a Gaussian Classifier\n",
    "clf=RandomForestClassifier(n_estimators=100)\n",
    "\n",
    "#Train the model using the training sets y_pred=clf.predict(X_test)\n",
    "clf.fit(X_train,y_train)\n",
    "\n",
    "y_pred=clf.predict(X_test)"
   ]
  },
  {
   "cell_type": "code",
   "execution_count": 105,
   "metadata": {},
   "outputs": [
    {
     "name": "stdout",
     "output_type": "stream",
     "text": [
      "Accuracy: 0.8665127020785219\n"
     ]
    }
   ],
   "source": [
    "#Import scikit-learn metrics module for accuracy calculation\n",
    "from sklearn import metrics\n",
    "# Model Accuracy, how often is the classifier correct?\n",
    "print(\"Accuracy:\", metrics.accuracy_score(y_test, y_pred))"
   ]
  },
  {
   "cell_type": "code",
   "execution_count": 106,
   "metadata": {},
   "outputs": [
    {
     "data": {
      "text/plain": [
       "RandomForestClassifier(bootstrap=True, class_weight=None, criterion='gini',\n",
       "                       max_depth=None, max_features='auto', max_leaf_nodes=None,\n",
       "                       min_impurity_decrease=0.0, min_impurity_split=None,\n",
       "                       min_samples_leaf=1, min_samples_split=2,\n",
       "                       min_weight_fraction_leaf=0.0, n_estimators=100,\n",
       "                       n_jobs=None, oob_score=False, random_state=None,\n",
       "                       verbose=0, warm_start=False)"
      ]
     },
     "execution_count": 106,
     "metadata": {},
     "output_type": "execute_result"
    }
   ],
   "source": [
    "from sklearn.ensemble import RandomForestClassifier\n",
    "\n",
    "#Create a Gaussian Classifier\n",
    "clf=RandomForestClassifier(n_estimators=100)\n",
    "\n",
    "#Train the model using the training sets y_pred=clf.predict(X_test)\n",
    "clf.fit(X_train,y_train)"
   ]
  },
  {
   "cell_type": "code",
   "execution_count": 107,
   "metadata": {},
   "outputs": [
    {
     "data": {
      "text/plain": [
       "Unknown                 0.250524\n",
       "SQS                     0.226137\n",
       "avg_session_duration    0.193431\n",
       "time_delta_slope        0.160685\n",
       "session_time_slope      0.107822\n",
       "US                      0.061401\n",
       "dtype: float64"
      ]
     },
     "execution_count": 107,
     "metadata": {},
     "output_type": "execute_result"
    }
   ],
   "source": [
    "feature_imp = pd.Series(clf.feature_importances_, index=feature_cols).sort_values(ascending=False)\n",
    "feature_imp"
   ]
  },
  {
   "cell_type": "code",
   "execution_count": 108,
   "metadata": {},
   "outputs": [
    {
     "name": "stderr",
     "output_type": "stream",
     "text": [
      "No handles with labels found to put in legend.\n"
     ]
    },
    {
     "data": {
      "image/png": "[encoded data removed]",
      "text/plain": [
       "<Figure size 432x288 with 1 Axes>"
      ]
     },
     "metadata": {
      "needs_background": "light"
     },
     "output_type": "display_data"
    }
   ],
   "source": [
    "import matplotlib.pyplot as plt\n",
    "import seaborn as sns\n",
    "%matplotlib inline\n",
    "# Creating a bar plot\n",
    "sns.barplot(x=feature_imp, y=feature_imp.index)\n",
    "# Add labels to your graph\n",
    "plt.xlabel('Feature Importance Score')\n",
    "plt.ylabel('Features')\n",
    "plt.title(\"Visualizing Important Features\")\n",
    "plt.legend()\n",
    "plt.show()"
   ]
  },
  {
   "cell_type": "code",
   "execution_count": 109,
   "metadata": {},
   "outputs": [
    {
     "name": "stdout",
     "output_type": "stream",
     "text": [
      "Accuracy at 5 max depth: 0.846189376443418\n",
      "Accuracy at 6 max depth: 0.8457274826789838\n",
      "Accuracy at 7 max depth: 0.8526558891454965\n",
      "Accuracy at 8 max depth: 0.8623556581986144\n",
      "Accuracy at 9 max depth: 0.8586605080831409\n",
      "Accuracy at 10 max depth: 0.8595842956120092\n",
      "Accuracy at 11 max depth: 0.8558891454965358\n",
      "Accuracy at 12 max depth: 0.854041570438799\n",
      "Accuracy at 13 max depth: 0.8494226327944573\n",
      "Accuracy at 14 max depth: 0.8471131639722864\n",
      "Accuracy at 15 max depth: 0.8309468822170901\n",
      "Accuracy at 16 max depth: 0.8448036951501154\n",
      "Accuracy at 17 max depth: 0.8364896073903002\n",
      "Accuracy at 18 max depth: 0.841108545034642\n",
      "Accuracy at 19 max depth: 0.8387990762124712\n",
      "Accuracy at 20 max depth: 0.8401847575057737\n",
      "Accuracy at 21 max depth: 0.8341801385681293\n",
      "Accuracy at 22 max depth: 0.8304849884526558\n",
      "Accuracy at 23 max depth: 0.8314087759815243\n",
      "Accuracy at 24 max depth: 0.8267898383371824\n",
      "Accuracy at 25 max depth: 0.8277136258660508\n",
      "Accuracy at 26 max depth: 0.8267898383371824\n",
      "Accuracy at 27 max depth: 0.8323325635103926\n",
      "Accuracy at 28 max depth: 0.8300230946882217\n",
      "Accuracy at 29 max depth: 0.8309468822170901\n",
      "Accuracy at 30 max depth: 0.8318706697459585\n",
      "Accuracy at 31 max depth: 0.8323325635103926\n",
      "Accuracy at 32 max depth: 0.8318706697459585\n",
      "Accuracy at 33 max depth: 0.8272517321016166\n",
      "Accuracy at 34 max depth: 0.828175519630485\n"
     ]
    }
   ],
   "source": [
    "for i in range(5,35):\n",
    "    # Split dataset into training set and test set\n",
    "    X_train, X_test, y_train, y_test = train_test_split(X, y, test_size=0.3, random_state=1) # 70% training and 30% test\n",
    "\n",
    "    # Create Decision Tree classifer object\n",
    "    clf = DecisionTreeClassifier(max_depth=i)\n",
    "\n",
    "    # Train Decision Tree Classifer\n",
    "    clf = clf.fit(X_train,y_train)\n",
    "\n",
    "    #Predict the response for test dataset\n",
    "    y_pred = clf.predict(X_test)\n",
    "    \n",
    "    # Model Accuracy, how often is the classifier correct?\n",
    "    print(\"Accuracy at\", i, \"max depth:\",metrics.accuracy_score(y_test, y_pred))"
   ]
  },
  {
   "cell_type": "code",
   "execution_count": null,
   "metadata": {},
   "outputs": [],
   "source": []
  }
 ],
 "metadata": {
  "kernelspec": {
   "display_name": "Python 3",
   "language": "python",
   "name": "python3"
  },
  "language_info": {
   "codemirror_mode": {
    "name": "ipython",
    "version": 3
   },
   "file_extension": ".py",
   "mimetype": "text/x-python",
   "name": "python",
   "nbconvert_exporter": "python",
   "pygments_lexer": "ipython3",
   "version": "3.7.3"
  }
 },
 "nbformat": 4,
 "nbformat_minor": 2
}
